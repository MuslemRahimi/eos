{
 "cells": [
  {
   "cell_type": "code",
   "execution_count": 15,
   "metadata": {},
   "outputs": [],
   "source": [
    "import eos\n",
    "import numpy as np\n",
    "import matplotlib.pyplot as plt\n",
    "import random\n",
    "import math\n",
    "import time\n",
    "import pandas as pd"
   ]
  },
  {
   "cell_type": "code",
   "execution_count": 16,
   "metadata": {},
   "outputs": [],
   "source": [
    "#obs=eos.Observable.make('B->Dlnu::R_D',eos.Parameters(),eos.Kinematics(q2_tau_max=11.662,q2_tau_min=3.15773,q2_mu_max=11.662,q2_mu_min=0.01),eos.Options())\n",
    "#display(obs)"
   ]
  },
  {
   "cell_type": "code",
   "execution_count": 17,
   "metadata": {},
   "outputs": [],
   "source": [
    "#obs=eos.Observable.make('B->D^*lnu::R_D^*',eos.Parameters(),eos.Kinematics(q2_tau_max=11.662,q2_tau_min=3.15773,q2_mu_max=11.662,q2_mu_min=0.01),eos.Options())\n",
    "#display(obs)"
   ]
  },
  {
   "cell_type": "code",
   "execution_count": 18,
   "metadata": {},
   "outputs": [],
   "source": [
    "#obs=eos.Observable.make('B->Dlnu::BR',eos.Parameters(),eos.Kinematics(q2_max=11.662,q2_min=0.00),eos.Options())\n",
    "#display(obs)"
   ]
  },
  {
   "cell_type": "code",
   "execution_count": 19,
   "metadata": {},
   "outputs": [],
   "source": [
    "#obs=eos.Observable.make('B->D^*lnu::BR',eos.Parameters(),eos.Kinematics(q2_max=11.662,q2_min=3.15773),eos.Options())\n",
    "#display(obs)"
   ]
  },
  {
   "cell_type": "code",
   "execution_count": 50,
   "metadata": {},
   "outputs": [
    {
     "name": "stderr",
     "output_type": "stream",
     "text": [
      "likelihood does not depend on parameter 'B(*)->D(*)::xi'(1)@HQET'; remove from prior or check options!\n",
      "likelihood does not depend on parameter 'B(*)->D(*)::chi_2''(1)@HQET'; remove from prior or check options!\n",
      "likelihood does not depend on parameter 'B(*)->D(*)::xi'''(1)@HQET'; remove from prior or check options!\n",
      "likelihood does not depend on parameter 'B(*)->D(*)::l_1'(1)@HQET'; remove from prior or check options!\n",
      "likelihood does not depend on parameter 'B(*)->D(*)::chi_3''(1)@HQET'; remove from prior or check options!\n",
      "likelihood does not depend on parameter 'B(*)->D(*)::xi''(1)@HQET'; remove from prior or check options!\n",
      "likelihood does not depend on parameter 'B(*)->D(*)::l_1(1)@HQET'; remove from prior or check options!\n",
      "likelihood does not depend on parameter 'B(*)->D(*)::l_5(1)@HQET'; remove from prior or check options!\n",
      "likelihood does not depend on parameter 'B(*)->D(*)::l_5'(1)@HQET'; remove from prior or check options!\n",
      "likelihood does not depend on parameter 'B(*)->D(*)::l_3(1)@HQET'; remove from prior or check options!\n",
      "likelihood does not depend on parameter 'B(*)->D(*)::l_4'(1)@HQET'; remove from prior or check options!\n",
      "likelihood does not depend on parameter 'B(*)->D(*)::l_6'(1)@HQET'; remove from prior or check options!\n",
      "likelihood does not depend on parameter 'B(*)->D(*)::l_6(1)@HQET'; remove from prior or check options!\n",
      "likelihood does not depend on parameter 'B(*)->D(*)::l_2'(1)@HQET'; remove from prior or check options!\n",
      "likelihood does not depend on parameter 'B(*)->D(*)::l_4(1)@HQET'; remove from prior or check options!\n",
      "likelihood does not depend on parameter 'B(*)->D(*)::eta''(1)@HQET'; remove from prior or check options!\n",
      "likelihood does not depend on parameter 'B(*)->D(*)::l_2(1)@HQET'; remove from prior or check options!\n",
      "likelihood does not depend on parameter 'B(*)->D(*)::l_3'(1)@HQET'; remove from prior or check options!\n"
     ]
    }
   ],
   "source": [
    "\n",
    "\n",
    "analysis_args = {\n",
    "    'global_options': {\n",
    "        'model':           'WilsonScan',\n",
    "        'form-factors':    'BSZ2015',\n",
    "        'z-order-bound':   '2',\n",
    "        'z-order-lp':      '3',\n",
    "        'z-order-slp':     '2',\n",
    "        'z-order-sslp':    '1',\n",
    "        'SU3F-limit-sslp': '1',\n",
    "    },\n",
    "    'likelihood': [\n",
    "        ## Theory\n",
    "        # B-LCSR\n",
    "        'B->D^(*)::FormFactors[f_+,f_0,A_0,A_1,A_2,V,T_1,T_2,T_23]@GKvD2018',\n",
    "        # Lattice B->D\n",
    "        'B->D::f_++f_0@FNALMILC2015A',\n",
    "        'B->D::f_++f_0@HPQCD2015A',\n",
    "        # Lattice B->D^*\n",
    "        'B->D^*::A_1[s_max]@HFLAV-2019',\n",
    "        # bounds\n",
    "        'b->c::Bound[0^+]@CLN',\n",
    "        'b->c::Bound[0^-]@CLN',\n",
    "        'b->c::Bound[1^+]@CLN',\n",
    "        'b->c::Bound[1^-]@CLN',\n",
    "        ## Experiment\n",
    "        #'B^0->(Dpi)^+l^-nubar::KinematicDistributionsAngularObservables@BBGJvD:2021A',\n",
    "    ],\n",
    "    'manual_constraints': {\n",
    "        # QCDSR\n",
    "        \"B(*)->D(*)::chi_2(1)\": {\n",
    "            'type': 'Gaussian',\n",
    "            'observable': \"B(*)->D(*)::chi_2(1)@HQET\",\n",
    "            'kinematics': { },\n",
    "            'options':    {\n",
    "                'form-factors':    'HQET',\n",
    "                'z-order-bound':   '2',\n",
    "                'z-order-lp':      '3',\n",
    "                'z-order-slp':     '2',\n",
    "                'z-order-sslp':    '1',\n",
    "                'SU3F-limit-sslp': '1',\n",
    "            },\n",
    "            'mean':       -0.06,\n",
    "            'sigma-stat': { 'hi': 0.02, 'lo': 0.02 },\n",
    "            'sigma-sys':  { 'hi': 0.00, 'lo': 0.00 },\n",
    "            'dof': 1\n",
    "        },\n",
    "        \"B(*)->D(*)::chi_2'(1)\": {\n",
    "            'type': 'Gaussian',\n",
    "            'observable': \"B(*)->D(*)::chi_2'(1)@HQET\",\n",
    "            'kinematics': { },\n",
    "            'options':    {\n",
    "                'form-factors':    'HQET',\n",
    "                'z-order-bound':   '2',\n",
    "                'z-order-lp':      '3',\n",
    "                'z-order-slp':     '2',\n",
    "                'z-order-sslp':    '1',\n",
    "                'SU3F-limit-sslp': '1',\n",
    "            },\n",
    "            'mean':       +0.00,\n",
    "            'sigma-stat': { 'hi': 0.02, 'lo': 0.02 },\n",
    "            'sigma-sys':  { 'hi': 0.00, 'lo': 0.00 },\n",
    "            'dof': 1\n",
    "        },\n",
    "        \"B(*)->D(*)::chi_3'(1)\": {\n",
    "            'type': 'Gaussian',\n",
    "            'observable': \"B(*)->D(*)::chi_3'(1)@HQET\",\n",
    "            'kinematics': { },\n",
    "            'options':    {\n",
    "                'form-factors':    'HQET',\n",
    "                'z-order-bound':   '2',\n",
    "                'z-order-lp':      '3',\n",
    "                'z-order-slp':     '2',\n",
    "                'z-order-sslp':    '1',\n",
    "                'SU3F-limit-sslp': '1',\n",
    "            },\n",
    "            'mean':       +0.04,\n",
    "            'sigma-stat': { 'hi': 0.02, 'lo': 0.02 },\n",
    "            'sigma-sys':  { 'hi': 0.00, 'lo': 0.00 },\n",
    "            'dof': 1\n",
    "        },\n",
    "        'B(*)->D(*)::eta(1)': {\n",
    "            'type': 'Gaussian',\n",
    "            'observable': \"B(*)->D(*)::eta(1)@HQET\",\n",
    "            'kinematics': { },\n",
    "            'options':    {\n",
    "                'form-factors':    'HQET',\n",
    "                'z-order-bound':   '2',\n",
    "                'z-order-lp':      '3',\n",
    "                'z-order-slp':     '2',\n",
    "                'z-order-sslp':    '1',\n",
    "                'SU3F-limit-sslp': '1',\n",
    "            },\n",
    "            'mean':       +0.62,\n",
    "            'sigma-stat': { 'hi': 0.20, 'lo': 0.20 },\n",
    "            'sigma-sys':  { 'hi': 0.00, 'lo': 0.00 },\n",
    "            'dof': 1\n",
    "        },\n",
    "        \"B(*)->D(*)::eta'(1)\": {\n",
    "            'type': 'Gaussian',\n",
    "            'observable': \"B(*)->D(*)::eta'(1)@HQET\",\n",
    "            'kinematics': { },\n",
    "            'options':    {\n",
    "                'form-factors':    'HQET',\n",
    "                'z-order-bound':   '2',\n",
    "                'z-order-lp':      '3',\n",
    "                'z-order-slp':     '2',\n",
    "                'z-order-sslp':    '1',\n",
    "                'SU3F-limit-sslp': '1',\n",
    "            },\n",
    "            'mean':       +0.00,\n",
    "            'sigma-stat': { 'hi': 0.20, 'lo': 0.20 },\n",
    "            'sigma-sys':  { 'hi': 0.00, 'lo': 0.00 },\n",
    "            'dof': 1\n",
    "        },\n",
    "        # Lattice ratio f_t over f_+\n",
    "        'B->D::f_T/f_+': {\n",
    "            'type': 'Gaussian',\n",
    "            'observable': 'B->D::f_T(q2)/f_+(q2)',\n",
    "            'kinematics': { 'q2': 11.643 },\n",
    "            'options':    {\n",
    "                'form-factors':    'HQET',\n",
    "                'z-order-bound':   '2',\n",
    "                'z-order-lp':      '3',\n",
    "                'z-order-slp':     '2',\n",
    "                'z-order-sslp':    '1',\n",
    "                'SU3F-limit-sslp': '1',\n",
    "            },\n",
    "            'mean':       1.113,\n",
    "            'sigma-stat': { 'hi': 0.126, 'lo': 0.126 },\n",
    "            'sigma-sys':  { 'hi': 0.000, 'lo': 0.000 },\n",
    "            'dof': 1\n",
    "        }\n",
    "    },\n",
    "    'priors': [\n",
    "        # LP\n",
    "        { 'parameter':     \"B(*)->D(*)::xi'(1)@HQET\", 'min':  -2.00,   'max':  -0.2,    'type': 'uniform' },\n",
    "        { 'parameter':    \"B(*)->D(*)::xi''(1)@HQET\", 'min':  -0.20,   'max':  +4.0,    'type': 'uniform' },\n",
    "        { 'parameter':   \"B(*)->D(*)::xi'''(1)@HQET\", 'min': -10.00,   'max':  +0.5,    'type': 'uniform' },\n",
    "        \n",
    "        \n",
    "        # SLP\n",
    "        { 'parameter':   \"B(*)->D(*)::chi_2(1)@HQET\", 'min':  -0.26,   'max':  +0.14,   'type': 'uniform' },\n",
    "        { 'parameter':  \"B(*)->D(*)::chi_2'(1)@HQET\", 'min':  -0.21,   'max':  +0.19,   'type': 'uniform' },\n",
    "        { 'parameter': \"B(*)->D(*)::chi_2''(1)@HQET\", 'min':  -1.20,   'max':  +1.20,   'type': 'uniform' },\n",
    "        \n",
    "        { 'parameter':  \"B(*)->D(*)::chi_3'(1)@HQET\", 'min':  -0.16,   'max':  +0.24,   'type': 'uniform' },\n",
    "        { 'parameter': \"B(*)->D(*)::chi_3''(1)@HQET\", 'min':  -0.50,   'max':  +0.30,   'type': 'uniform' },\n",
    "        \n",
    "        { 'parameter':     \"B(*)->D(*)::eta(1)@HQET\", 'min':  -0.39,   'max':  +1.81,   'type': 'uniform' },\n",
    "        { 'parameter':    \"B(*)->D(*)::eta'(1)@HQET\", 'min':  -1.76,   'max':  +1.64,   'type': 'uniform' },\n",
    "        { 'parameter':   \"B(*)->D(*)::eta''(1)@HQET\", 'min':  -3.00,   'max':  +3.00,   'type': 'uniform' },\n",
    "        \n",
    "        \n",
    "        # SSLP\n",
    "        { 'parameter':     \"B(*)->D(*)::l_1(1)@HQET\", 'min':  -1.30, 'max':  +1.50, 'type': 'uniform' },\n",
    "        { 'parameter':    \"B(*)->D(*)::l_1'(1)@HQET\", 'min': -45.00, 'max': +22.00, 'type': 'uniform' },\n",
    "        \n",
    "        { 'parameter':     \"B(*)->D(*)::l_2(1)@HQET\", 'min':  -4.00, 'max':  +0.00, 'type': 'uniform' },\n",
    "        { 'parameter':    \"B(*)->D(*)::l_2'(1)@HQET\", 'min': -35.00, 'max': +25.00, 'type': 'uniform' },\n",
    "        \n",
    "        { 'parameter':     \"B(*)->D(*)::l_3(1)@HQET\", 'min':  -4.00, 'max': +40.00, 'type': 'uniform' },\n",
    "        { 'parameter':    \"B(*)->D(*)::l_3'(1)@HQET\", 'min': -30.00, 'max': +40.00, 'type': 'uniform' },\n",
    "        \n",
    "        { 'parameter':     \"B(*)->D(*)::l_4(1)@HQET\", 'min': -10.00, 'max':  +7.00, 'type': 'uniform' },\n",
    "        { 'parameter':    \"B(*)->D(*)::l_4'(1)@HQET\", 'min': -12.00, 'max': +12.00, 'type': 'uniform' },\n",
    "        \n",
    "        { 'parameter':     \"B(*)->D(*)::l_5(1)@HQET\", 'min': -10.00, 'max': +16.00, 'type': 'uniform' },\n",
    "        { 'parameter':    \"B(*)->D(*)::l_5'(1)@HQET\", 'min': -13.00, 'max': +16.00, 'type': 'uniform' },\n",
    "        \n",
    "        { 'parameter':     \"B(*)->D(*)::l_6(1)@HQET\", 'min': -15.00, 'max': +20.00, 'type': 'uniform' },\n",
    "        { 'parameter':    \"B(*)->D(*)::l_6'(1)@HQET\", 'min': -20.00, 'max': +20.00, 'type': 'uniform' },\n",
    "        \n",
    "    ]\n",
    "}\n",
    "thanalysis = eos.Analysis(**analysis_args)\n",
    "thanalysis.parameters['B(*)->D(*)::n_f@HQET'].set(2.0)\n",
    "thanalysis.parameters['B(*)->D(*)::a@HQET'].set(1.0)\n",
    "#thanalysis.parameters['mass::B_d'].set(5.27942)\n",
    "#thanalysis.parameters['mass::D_u'].set(1.86723)\n",
    "#thanalysis.parameters['mass::D_u^*'].set(2.01000)\n",
    "thanalysis.parameters['B_s(*)->D_s(*)::n_s@HQET'].set(1.0)\n",
    "thanalysis.parameters['B_s(*)->D_s(*)::a@HQET'].set(1.0)\n",
    "#thanalysis.parameters['mass::B_s'].set(5.36688)\n",
    "#thanalysis.parameters['mass::D_u'].set(1.96834)\n",
    "#thanalysis.parameters['mass::D_u^*'].set(2.1122)\n",
    "\n",
    "# start point\n",
    "##\n",
    "## LP\n",
    "thanalysis.parameters[    \"B(*)->D(*)::xi'(1)@HQET\"].set( -1.15)\n",
    "thanalysis.parameters[   \"B(*)->D(*)::xi''(1)@HQET\"].set( +2.02)\n",
    "thanalysis.parameters[  \"B(*)->D(*)::xi'''(1)@HQET\"].set( -3.90)\n",
    "##\n",
    "## SLP\n",
    "thanalysis.parameters[  \"B(*)->D(*)::chi_2(1)@HQET\"].set( -0.07)\n",
    "thanalysis.parameters[ \"B(*)->D(*)::chi_2'(1)@HQET\"].set( -0.02)\n",
    "thanalysis.parameters[\"B(*)->D(*)::chi_2''(1)@HQET\"].set( -0.01)\n",
    "##\n",
    "thanalysis.parameters[ \"B(*)->D(*)::chi_3'(1)@HQET\"].set( +0.04)\n",
    "thanalysis.parameters[\"B(*)->D(*)::chi_3''(1)@HQET\"].set( -0.11)\n",
    "##\n",
    "thanalysis.parameters[    \"B(*)->D(*)::eta(1)@HQET\"].set( +0.64)\n",
    "thanalysis.parameters[   \"B(*)->D(*)::eta'(1)@HQET\"].set( +0.06)\n",
    "thanalysis.parameters[  \"B(*)->D(*)::eta''(1)@HQET\"].set( -0.52)\n",
    "##\n",
    "## SSLP\n",
    "thanalysis.parameters[    \"B(*)->D(*)::l_1(1)@HQET\"].set( +0.17)\n",
    "thanalysis.parameters[   \"B(*)->D(*)::l_1'(1)@HQET\"].set( -5.80)\n",
    "##\n",
    "thanalysis.parameters[    \"B(*)->D(*)::l_2(1)@HQET\"].set( -1.60)\n",
    "thanalysis.parameters[   \"B(*)->D(*)::l_2'(1)@HQET\"].set( -3.73)\n",
    "##\n",
    "thanalysis.parameters[    \"B(*)->D(*)::l_3(1)@HQET\"].set( -3.52)\n",
    "thanalysis.parameters[   \"B(*)->D(*)::l_3'(1)@HQET\"].set( +5.12)\n",
    "##\n",
    "thanalysis.parameters[    \"B(*)->D(*)::l_4(1)@HQET\"].set( -2.33)\n",
    "thanalysis.parameters[   \"B(*)->D(*)::l_4'(1)@HQET\"].set( -0.72)\n",
    "##\n",
    "thanalysis.parameters[    \"B(*)->D(*)::l_5(1)@HQET\"].set( +3.04)\n",
    "thanalysis.parameters[   \"B(*)->D(*)::l_5'(1)@HQET\"].set( +0.18)\n",
    "##\n",
    "thanalysis.parameters[    \"B(*)->D(*)::l_6(1)@HQET\"].set( +2.33)\n",
    "thanalysis.parameters[   \"B(*)->D(*)::l_6'(1)@HQET\"].set( +0.70)\n",
    "\n",
    "\n",
    "\n",
    "analysis_args['likelihood'].append('B->D^(*)lnu::R_D^(*)@HFLAV-2019')\n",
    "analysis_args['priors'].extend([\n",
    "     { 'parameter': 'b->ctaunutau::Re{cVR}', 'min':  -1.0, 'max':  1.0 , 'type': 'uniform'},\n",
    "     { 'parameter': 'b->ctaunutau::Re{cSL}', 'min':  -1.0, 'max':  1.0 , 'type': 'uniform'},\n",
    "])"
   ]
  },
  {
   "cell_type": "code",
   "execution_count": 51,
   "metadata": {},
   "outputs": [
    {
     "name": "stderr",
     "output_type": "stream",
     "text": [
      "likelihood does not depend on parameter 'B(*)->D(*)::xi'(1)@HQET'; remove from prior or check options!\n",
      "likelihood does not depend on parameter 'B(*)->D(*)::chi_2''(1)@HQET'; remove from prior or check options!\n",
      "likelihood does not depend on parameter 'B(*)->D(*)::xi'''(1)@HQET'; remove from prior or check options!\n",
      "likelihood does not depend on parameter 'B(*)->D(*)::l_1'(1)@HQET'; remove from prior or check options!\n",
      "likelihood does not depend on parameter 'B(*)->D(*)::chi_3''(1)@HQET'; remove from prior or check options!\n",
      "likelihood does not depend on parameter 'B(*)->D(*)::xi''(1)@HQET'; remove from prior or check options!\n",
      "likelihood does not depend on parameter 'B(*)->D(*)::l_1(1)@HQET'; remove from prior or check options!\n",
      "likelihood does not depend on parameter 'B(*)->D(*)::l_5(1)@HQET'; remove from prior or check options!\n",
      "likelihood does not depend on parameter 'B(*)->D(*)::l_5'(1)@HQET'; remove from prior or check options!\n",
      "likelihood does not depend on parameter 'B(*)->D(*)::l_3(1)@HQET'; remove from prior or check options!\n",
      "likelihood does not depend on parameter 'B(*)->D(*)::l_4'(1)@HQET'; remove from prior or check options!\n",
      "likelihood does not depend on parameter 'B(*)->D(*)::l_6'(1)@HQET'; remove from prior or check options!\n",
      "likelihood does not depend on parameter 'B(*)->D(*)::l_6(1)@HQET'; remove from prior or check options!\n",
      "likelihood does not depend on parameter 'B(*)->D(*)::l_2'(1)@HQET'; remove from prior or check options!\n",
      "likelihood does not depend on parameter 'B(*)->D(*)::l_4(1)@HQET'; remove from prior or check options!\n",
      "likelihood does not depend on parameter 'B(*)->D(*)::eta''(1)@HQET'; remove from prior or check options!\n",
      "likelihood does not depend on parameter 'B(*)->D(*)::l_2(1)@HQET'; remove from prior or check options!\n",
      "likelihood does not depend on parameter 'B(*)->D(*)::l_3'(1)@HQET'; remove from prior or check options!\n"
     ]
    },
    {
     "data": {
      "text/html": [
       "<table>\n",
       "<tr><th>parameter</th><th>value</th></tr>\n",
       "<tr><td>$\\xi^{(1)}(1)$</td><td>-1.1492</td></tr><tr><td>$\\xi^{(2)}(1)$</td><td>1.9258</td></tr><tr><td>$\\xi^{(3)}(1)$</td><td>-3.2900</td></tr><tr><td>$\\chi_2(1)$</td><td>-0.0600</td></tr><tr><td>$\\chi^{(1)}_2(1)$</td><td>-0.0000</td></tr><tr><td>$\\chi^{(2)}_2(1)$</td><td>0.0600</td></tr><tr><td>$\\chi^{(1)}_3(1)$</td><td>0.0400</td></tr><tr><td>$\\chi^{(2)}_3(1)$</td><td>-0.0466</td></tr><tr><td>$\\eta(1)$</td><td>0.6200</td></tr><tr><td>$\\eta^{(1)}(1)$</td><td>0.0000</td></tr><tr><td>$\\eta^{(2)}(1)$</td><td>-0.1249</td></tr><tr><td>$l^_1(1)$</td><td>0.0793</td></tr><tr><td>$l^{(1)}_1(1)$</td><td>-6.9080</td></tr><tr><td>$l^_2(1)$</td><td>-1.9505</td></tr><tr><td>$l^{(1)}_2(1)$</td><td>-4.0562</td></tr><tr><td>$l^_3(1)$</td><td>0.7202</td></tr><tr><td>$l^{(1)}_3(1)$</td><td>1.2087</td></tr><tr><td>$l^_4(1)$</td><td>-1.7608</td></tr><tr><td>$l^{(1)}_4(1)$</td><td>0.2966</td></tr><tr><td>$l^_5(1)$</td><td>3.7226</td></tr><tr><td>$l^{(1)}_5(1)$</td><td>-0.9000</td></tr><tr><td>$l^_6(1)$</td><td>4.0038</td></tr><tr><td>$l^{(1)}_6(1)$</td><td>-0.5359</td></tr><tr><td>b->ctaunutau::Re{cVR}</td><td>-0.0941</td></tr><tr><td>b->ctaunutau::Re{cSL}</td><td>0.2036</td></tr></table>"
      ],
      "text/plain": [
       "<eos.analysis.BestFitPoint at 0x7f58268065f8>"
      ]
     },
     "metadata": {},
     "output_type": "display_data"
    },
    {
     "data": {
      "text/html": [
       "<table>\n",
       "<tr><th>constraint</th><th>&chi;<sup>2</sup></th><th>d.o.f.</th></tr>\n",
       "<tr><td><tt>B(*)->D(*)::chi_2'(1)</tt></td><td>0.0000</td><td>1</td></tr>\n",
       "<tr><td><tt>B(*)->D(*)::chi_2(1)</tt></td><td>0.0000</td><td>1</td></tr>\n",
       "<tr><td><tt>B(*)->D(*)::chi_3'(1)</tt></td><td>0.0000</td><td>1</td></tr>\n",
       "<tr><td><tt>B(*)->D(*)::eta'(1)</tt></td><td>0.0000</td><td>1</td></tr>\n",
       "<tr><td><tt>B(*)->D(*)::eta(1)</tt></td><td>0.0000</td><td>1</td></tr>\n",
       "<tr><td><tt>B->D::f_++f_0@FNALMILC2015A</tt></td><td>127.0175</td><td>7</td></tr>\n",
       "<tr><td><tt>B->D::f_++f_0@HPQCD2015A</tt></td><td>0.7880</td><td>5</td></tr>\n",
       "<tr><td><tt>B->D::f_T/f_+</tt></td><td>2.0684</td><td>1</td></tr>\n",
       "<tr><td><tt>B->D^(*)::FormFactors[f_+,f_0,A_0,A_1,A_2,V,T_1,T_2,T_23]@GKvD2018</tt></td><td>2.4798</td><td>33</td></tr>\n",
       "<tr><td><tt>B->D^(*)lnu::R_D^(*)@HFLAV-2019</tt></td><td>0.0000</td><td>2</td></tr>\n",
       "<tr><td><tt>B->D^*::A_1[s_max]@HFLAV-2019</tt></td><td>0.0015</td><td>1</td></tr>\n",
       "</table><br/>\n",
       "<table>\n",
       "<tr><th>total &chi;<sup>2</sup></th><td>132.3553</td></tr>\n",
       "<tr><th>total degrees of freedom</th><td>29</td></tr>\n",
       "<tr><th>p-value</th><td>0.0000%</td></tr>\n",
       "</table>\n"
      ],
      "text/plain": [
       "<_eos.GoodnessOfFit at 0x7f58269089d0>"
      ]
     },
     "metadata": {},
     "output_type": "display_data"
    }
   ],
   "source": [
    "analysis = eos.Analysis(**analysis_args)\n",
    "bfp = analysis.optimize()\n",
    "display(bfp)\n",
    "display(analysis.goodness_of_fit())"
   ]
  },
  {
   "cell_type": "code",
   "execution_count": null,
   "metadata": {},
   "outputs": [],
   "source": []
  },
  {
   "cell_type": "code",
   "execution_count": 47,
   "metadata": {},
   "outputs": [],
   "source": [
    "analysis_args = {\n",
    "    'global_options': { 'form-factors': 'BSZ2015', 'model': 'WilsonScan' },\n",
    "    'priors': [\n",
    "        { 'parameter': 'b->ctaunutau::Re{cVR}', 'min':  -1.0, 'max':  1.0 , 'type': 'uniform'},\n",
    "        { 'parameter': 'b->ctaunutau::Re{cSL}', 'min':  -1.0, 'max':  1.0 , 'type': 'uniform'},\n",
    "        #{ 'parameter': 'b->ctaunutau::Re{cT}', 'min':  -1.0, 'max':  1.0 , 'type': 'uniform'},\n",
    "        \n",
    "    ],\n",
    "    'likelihood': ['B->D^(*)lnu::R_D^(*)@HFLAV-2019']\n",
    "}\n",
    "analysis = eos.Analysis(**analysis_args)\n",
    "analysis.parameters[  \"b->ctaunutau::Re{cVR}\"].set( 0.05)\n",
    "analysis.parameters[  \"b->ctaunutau::Re{cSL}\"].set( 0.01)"
   ]
  },
  {
   "cell_type": "code",
   "execution_count": 48,
   "metadata": {},
   "outputs": [
    {
     "data": {
      "text/html": [
       "<table>\n",
       "<tr><th>parameter</th><th>value</th></tr>\n",
       "<tr><td>b->ctaunutau::Re{cVR}</td><td>-0.0941</td></tr><tr><td>b->ctaunutau::Re{cSL}</td><td>0.2036</td></tr></table>"
      ],
      "text/plain": [
       "<eos.analysis.BestFitPoint at 0x7f58269089e8>"
      ]
     },
     "metadata": {},
     "output_type": "display_data"
    },
    {
     "data": {
      "text/html": [
       "<table>\n",
       "<tr><th>constraint</th><th>&chi;<sup>2</sup></th><th>d.o.f.</th></tr>\n",
       "<tr><td><tt>B->D^(*)lnu::R_D^(*)@HFLAV-2019</tt></td><td>0.0000</td><td>2</td></tr>\n",
       "</table><br/>\n",
       "<table>\n",
       "<tr><th>total &chi;<sup>2</sup></th><td>0.0000</td></tr>\n",
       "<tr><th>total degrees of freedom</th><td>0</td></tr>\n",
       "<tr><th>p-value</th><td>   nan%</td></tr>\n",
       "</table>\n"
      ],
      "text/plain": [
       "<_eos.GoodnessOfFit at 0x7f5826867d18>"
      ]
     },
     "metadata": {},
     "output_type": "display_data"
    }
   ],
   "source": [
    "bfp = analysis.optimize()\n",
    "display(bfp)\n",
    "display(analysis.goodness_of_fit())"
   ]
  },
  {
   "cell_type": "code",
   "execution_count": 8,
   "metadata": {},
   "outputs": [],
   "source": [
    "################Contour-Plot####################"
   ]
  },
  {
   "cell_type": "code",
   "execution_count": 52,
   "metadata": {},
   "outputs": [
    {
     "name": "stdout",
     "output_type": "stream",
     "text": [
      "WARNING: Markov chain self adaptation failed; trying diagonalization ... success\n"
     ]
    },
    {
     "name": "stderr",
     "output_type": "stream",
     "text": [
      "100%|██████████| 100/100 [00:00<00:00, 191.65it/s]"
     ]
    },
    {
     "name": "stdout",
     "output_type": "stream",
     "text": [
      "Done!\n"
     ]
    },
    {
     "name": "stderr",
     "output_type": "stream",
     "text": [
      "\n"
     ]
    }
   ],
   "source": [
    "#'BSZ2015'\n",
    "kin  = eos.Kinematics(**{\n",
    "    'q2_tau_min': 3.1577,\n",
    "    'q2_tau_max': 11.662,\n",
    "    'q2_mu_min': 0.02,\n",
    "    'q2_mu_max': 11.662\n",
    "})\n",
    "\n",
    "opts = eos.Options(**{\n",
    "    'l': 'tau',            # select tau leptons\n",
    "    'form-factors': 'HQET', # use form factors from Bordone, Jung, van Dyk 2019\n",
    "    'model': 'WilsonScan'\n",
    "})\n",
    "\n",
    "pars = eos.Parameters()\n",
    "#pars.set('b->ctaunutau::Re{cVL}', 1)\n",
    "\n",
    "#parameter_samples, log_weights, e_samples  = analysis.sample(N=2000, stride=5, pre_N=1000, preruns=5, cov_scale=0.05, start_point=bfp.point, observables=e_obs)\n",
    "parameter_samples, _ = thanalysis.sample(N=500, preruns=10, pre_N=500, stride=3)\n",
    "print(\"Done!\")"
   ]
  },
  {
   "cell_type": "code",
   "execution_count": 53,
   "metadata": {},
   "outputs": [
    {
     "name": "stdout",
     "output_type": "stream",
     "text": [
      "(500, 23)\n"
     ]
    }
   ],
   "source": [
    "\n",
    "print(parameter_samples.shape)"
   ]
  },
  {
   "cell_type": "code",
   "execution_count": null,
   "metadata": {},
   "outputs": [],
   "source": []
  },
  {
   "cell_type": "code",
   "execution_count": 54,
   "metadata": {},
   "outputs": [
    {
     "data": {
      "image/png": "[encoded data removed]",
      "text/plain": [
       "<Figure size 432x288 with 1 Axes>"
      ]
     },
     "metadata": {
      "needs_background": "light"
     },
     "output_type": "display_data"
    }
   ],
   "source": [
    "plot_args = {\n",
    "    'plot': {\n",
    "        'x': { 'label': r'Wilson coefficients', 'range': [-0.3, 0.5] },\n",
    "        'legend': { 'location': 'upper left' }\n",
    "    },\n",
    "    'contents': [\n",
    "        {\n",
    "            'type': 'histogram',\n",
    "            'data': { 'samples': parameter_samples[:, 0]}\n",
    "        },\n",
    "        {\n",
    "            'type': 'histogram',\n",
    "            'data': { 'samples': parameter_samples[:, 1]}\n",
    "        },\n",
    "        {\n",
    "            'type': 'kde', 'color': 'C0', 'label': 'posterior', 'bandwidth': 2,\n",
    "            'range': [-1, 1],\n",
    "            'data': { 'samples': parameter_samples[:, 0]}\n",
    "        },\n",
    "        {\n",
    "            'type': 'kde', 'color': 'C0', 'label': 'posterior', 'bandwidth': 2,\n",
    "            'range': [-1, 1],\n",
    "            'data': { 'samples': parameter_samples[:, 1] }\n",
    "        }\n",
    "    ]\n",
    "}\n",
    "eos.plot.Plotter(plot_args).plot()"
   ]
  },
  {
   "cell_type": "code",
   "execution_count": null,
   "metadata": {},
   "outputs": [],
   "source": []
  },
  {
   "cell_type": "code",
   "execution_count": null,
   "metadata": {},
   "outputs": [],
   "source": []
  },
  {
   "cell_type": "code",
   "execution_count": 55,
   "metadata": {},
   "outputs": [
    {
     "data": {
      "image/png": "[encoded data removed]",
      "text/plain": [
       "<Figure size 432x288 with 1 Axes>"
      ]
     },
     "metadata": {
      "needs_background": "light"
     },
     "output_type": "display_data"
    }
   ],
   "source": [
    "plot_args = {\n",
    "    'plot': {\n",
    "        'x': { 'label': r'$Re(c_{V_R})$', 'range': [-0.25, 0.1] },\n",
    "        'y': { 'label': r'$Re(c_{S_L})$',   'range': [-0.25, 0.5] },\n",
    "    },\n",
    "    'contents': [\n",
    "        {\n",
    "            'type': 'kde2D', 'color': 'C1', 'label': 'posterior',\n",
    "            'range': [-1, 1], 'levels': [68, 95], 'bandwidth': 3,\n",
    "            'data': { 'samples': parameter_samples[:, (0,1)] }\n",
    "        }\n",
    "    ]\n",
    "}\n",
    "eos.plot.Plotter(plot_args).plot()"
   ]
  },
  {
   "cell_type": "code",
   "execution_count": 56,
   "metadata": {},
   "outputs": [
    {
     "name": "stdout",
     "output_type": "stream",
     "text": [
      "Re(cVR) = -0.6165 +/- 0.1712\n",
      "Re(cSL) = 1.2987 +/- 0.3830\n"
     ]
    }
   ],
   "source": [
    "print('Re(cVR) = {mean:.4f} +/- {std:.4f}'.format(\n",
    "    mean=np.average(parameter_samples[:,0]),\n",
    "    std=np.std(parameter_samples[:, 0])\n",
    "))\n",
    "\n",
    "print('Re(cSL) = {mean:.4f} +/- {std:.4f}'.format(\n",
    "    mean=np.average(parameter_samples[:,1]),\n",
    "    std=np.std(parameter_samples[:, 1])\n",
    "))"
   ]
  },
  {
   "cell_type": "code",
   "execution_count": null,
   "metadata": {},
   "outputs": [],
   "source": []
  },
  {
   "cell_type": "code",
   "execution_count": null,
   "metadata": {},
   "outputs": [],
   "source": []
  }
 ],
 "metadata": {
  "kernelspec": {
   "display_name": "Python 3",
   "language": "python",
   "name": "python3"
  },
  "language_info": {
   "codemirror_mode": {
    "name": "ipython",
    "version": 3
   },
   "file_extension": ".py",
   "mimetype": "text/x-python",
   "name": "python",
   "nbconvert_exporter": "python",
   "pygments_lexer": "ipython3",
   "version": "3.6.9"
  }
 },
 "nbformat": 4,
 "nbformat_minor": 4
}
