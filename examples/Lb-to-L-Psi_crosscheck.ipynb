{
 "cells": [
  {
   "cell_type": "code",
   "execution_count": 1,
   "metadata": {},
   "outputs": [],
   "source": [
    "import eos\n",
    "import numpy as np\n",
    "import matplotlib.pyplot as plt\n",
    "import random\n",
    "\n",
    "random.seed(114)"
   ]
  },
  {
   "cell_type": "code",
   "execution_count": null,
   "metadata": {},
   "outputs": [],
   "source": []
  },
  {
   "cell_type": "code",
   "execution_count": 2,
   "metadata": {},
   "outputs": [],
   "source": [
    "#eos.Observables(prefix='L')"
   ]
  },
  {
   "cell_type": "code",
   "execution_count": 3,
   "metadata": {
    "scrolled": false
   },
   "outputs": [],
   "source": [
    "#eos.Observables(prefix='L', name='a')"
   ]
  },
  {
   "cell_type": "code",
   "execution_count": 4,
   "metadata": {},
   "outputs": [],
   "source": [
    "analysis_args = {\n",
    "    'global_options': { 'form-factors': 'BRvD2021', 'model': 'SM', 'psi' : 'J/psi' },\n",
    "    'priors': [\n",
    "        { 'parameter': 'Lambda_b->Lambdaccbar::Re{alpha_0^V_long}@BRvD2021', 'min': 0.0, 'max':  1.0 , 'type': 'uniform'},\n",
    "        #{ 'parameter': 'Lambda_b->Lambdaccbar::Im{alpha_0^V_long}@BRvD2021', 'min': -1.0, 'max':  1.0 , 'type': 'uniform'},\n",
    "        { 'parameter': 'Lambda_b->Lambdaccbar::Re{alpha_0^V_perp}@BRvD2021', 'min': -1.0, 'max':  1.0 , 'type': 'uniform'},\n",
    "        { 'parameter': 'Lambda_b->Lambdaccbar::Im{alpha_0^V_perp}@BRvD2021', 'min': -1.0, 'max':  1.0 , 'type': 'uniform'},\n",
    "        { 'parameter': 'Lambda_b->Lambdaccbar::Re{alpha_0^A_long}@BRvD2021', 'min': -1.0, 'max':  1.0 , 'type': 'uniform'},\n",
    "        { 'parameter': 'Lambda_b->Lambdaccbar::Im{alpha_0^A_long}@BRvD2021', 'min': -1.0, 'max':  1.0 , 'type': 'uniform'},\n",
    "        { 'parameter': 'Lambda_b->Lambdaccbar::Re{alpha_0^A_perp}@BRvD2021', 'min': -1.0, 'max':  1.0 , 'type': 'uniform'},\n",
    "        { 'parameter': 'Lambda_b->Lambdaccbar::Im{alpha_0^A_perp}@BRvD2021', 'min': -1.0, 'max':  1.0 , 'type': 'uniform'}\n",
    "        \n",
    "    ],\n",
    "    'likelihood': [\n",
    "        'Lambda_b->LambdaJpsi::K1ss@LHCb-2020',  \n",
    "        'Lambda_b->LambdaJpsi::K1cc@LHCb-2020',\n",
    "        'Lambda_b->LambdaJpsi::K2ss@LHCb-2020',\n",
    "        'Lambda_b->LambdaJpsi::K2cc@LHCb-2020',\n",
    "        'Lambda_b->LambdaJpsi::K3sc@LHCb-2020',  \n",
    "        'Lambda_b->LambdaJpsi::K4sc@LHCb-2020',\n",
    "        'Lambda_b->LambdaJpsi::branching_ratio@HFLAV-2016',\n",
    "    \n",
    "    ]\n",
    "}\n",
    "analysis = eos.Analysis(**analysis_args)\n",
    "\n",
    "\n",
    "analysis.parameters['Lambda_b->Lambdaccbar::Re{alpha_0^V_long}@BRvD2021'].set(random.uniform(0,0.002))\n",
    "#analysis.parameters['Lambda_b->Lambdaccbar::Im{alpha_0^V_long}@BRvD2021'].set(random.uniform(-1.2e-3,1.2e-3))\n",
    "\n",
    "analysis.parameters['Lambda_b->Lambdaccbar::Re{alpha_0^V_perp}@BRvD2021'].set(random.uniform(0,1.0e-3))\n",
    "analysis.parameters['Lambda_b->Lambdaccbar::Im{alpha_0^V_perp}@BRvD2021'].set(random.uniform(-1.2e-3,1.2e-3))\n",
    "\n",
    "analysis.parameters['Lambda_b->Lambdaccbar::Re{alpha_0^A_long}@BRvD2021'].set(random.uniform(-1.2e-3,1.2e-3))\n",
    "analysis.parameters['Lambda_b->Lambdaccbar::Im{alpha_0^A_long}@BRvD2021'].set(random.uniform(-1.2e-3,1.2e-3))\n",
    "\n",
    "analysis.parameters['Lambda_b->Lambdaccbar::Re{alpha_0^A_perp}@BRvD2021'].set(random.uniform(-1.2e-3,1.2e-3))\n",
    "analysis.parameters['Lambda_b->Lambdaccbar::Im{alpha_0^A_perp}@BRvD2021'].set(random.uniform(-1.2e-3,1.2e-3))"
   ]
  },
  {
   "cell_type": "code",
   "execution_count": 5,
   "metadata": {},
   "outputs": [],
   "source": [
    "analysis.parameters[\"mass::J/psi\"].set(3.0969)\n",
    "analysis.parameters[\"mass::psi(2S)\"].set(3.6860)\n",
    "analysis.parameters[\"mass::Lambda\"].set(1.115683)\n",
    "analysis.parameters[\"mass::Lambda_b\"].set(5.61960)\n",
    "analysis.parameters[\"mass::D^0\"].set(1.86483)\n",
    "analysis.parameters[\"b->sccbar::t_0\"].set(9.0)\n",
    "analysis.parameters[\"b->sccbar::t_s\"].set(-17.4724)\n",
    "analysis.parameters[\"b->sccbar::chiOPE@GvDV2020\"].set(1.81e-4)\n",
    "analysis.parameters[\"Lambda::alpha\"].set(0.750)"
   ]
  },
  {
   "cell_type": "code",
   "execution_count": 6,
   "metadata": {},
   "outputs": [
    {
     "name": "stderr",
     "output_type": "stream",
     "text": [
      "100%|██████████| 100/100 [00:01<00:00, 76.97it/s]\n"
     ]
    }
   ],
   "source": [
    "#help(analysis.sample)\n",
    "for i in range(1):\n",
    "    rng= np.random.mtrand.RandomState(12345+i)\n",
    "    samples, weights = analysis.sample(N=5000,stride=1,pre_N=500,preruns=5,rng = rng) \n",
    "#norm_weights = np.exp(weights) \n",
    "norm_weights = weights/sum(weights)\n",
    "#plt.hist(samples[:,0],weights=norm_weights)\n",
    "#np.median(samples[:,0])"
   ]
  },
  {
   "cell_type": "code",
   "execution_count": 7,
   "metadata": {
    "scrolled": false
   },
   "outputs": [
    {
     "data": {
      "text/html": [
       "<table>\n",
       "<tr><th>parameter</th><th>value</th></tr>\n",
       "<tr><td>Lambda_b->Lambdaccbar::Re{alpha_0^V_long}@BRvD2021</td><td>0.0030</td></tr><tr><td>Lambda_b->Lambdaccbar::Re{alpha_0^V_perp}@BRvD2021</td><td>0.0002</td></tr><tr><td>Lambda_b->Lambdaccbar::Im{alpha_0^V_perp}@BRvD2021</td><td>0.0026</td></tr><tr><td>Lambda_b->Lambdaccbar::Re{alpha_0^A_long}@BRvD2021</td><td>0.0035</td></tr><tr><td>Lambda_b->Lambdaccbar::Im{alpha_0^A_long}@BRvD2021</td><td>0.0007</td></tr><tr><td>Lambda_b->Lambdaccbar::Re{alpha_0^A_perp}@BRvD2021</td><td>0.0003</td></tr><tr><td>Lambda_b->Lambdaccbar::Im{alpha_0^A_perp}@BRvD2021</td><td>0.0019</td></tr></table>"
      ],
      "text/plain": [
       "<eos.analysis.BestFitPoint at 0x7f0d60076fd0>"
      ]
     },
     "metadata": {},
     "output_type": "display_data"
    },
    {
     "data": {
      "text/html": [
       "<table>\n",
       "<tr><th>constraint</th><th>&chi;<sup>2</sup></th><th>d.o.f.</th></tr>\n",
       "<tr><td><tt>Lambda_b->LambdaJpsi::K1cc@LHCb-2020</tt></td><td>0.0000</td><td>1</td></tr>\n",
       "<tr><td><tt>Lambda_b->LambdaJpsi::K1ss@LHCb-2020</tt></td><td>0.0000</td><td>1</td></tr>\n",
       "<tr><td><tt>Lambda_b->LambdaJpsi::K2cc@LHCb-2020</tt></td><td>0.0000</td><td>1</td></tr>\n",
       "<tr><td><tt>Lambda_b->LambdaJpsi::K2ss@LHCb-2020</tt></td><td>0.0000</td><td>1</td></tr>\n",
       "<tr><td><tt>Lambda_b->LambdaJpsi::K3sc@LHCb-2020</tt></td><td>0.0000</td><td>1</td></tr>\n",
       "<tr><td><tt>Lambda_b->LambdaJpsi::K4sc@LHCb-2020</tt></td><td>0.0000</td><td>1</td></tr>\n",
       "<tr><td><tt>Lambda_b->LambdaJpsi::branching_ratio@HFLAV-2016</tt></td><td>0.0000</td><td>1</td></tr>\n",
       "</table><br/>\n",
       "<table>\n",
       "<tr><th>total &chi;<sup>2</sup></th><td>0.0000</td></tr>\n",
       "<tr><th>total degrees of freedom</th><td>0</td></tr>\n",
       "<tr><th>p-value</th><td>   nan%</td></tr>\n",
       "</table>\n"
      ],
      "text/plain": [
       "<_eos.GoodnessOfFit at 0x7f0d600910a0>"
      ]
     },
     "metadata": {},
     "output_type": "display_data"
    }
   ],
   "source": [
    "bfp = analysis.optimize()\n",
    "display(bfp)\n",
    "display(analysis.goodness_of_fit())"
   ]
  },
  {
   "cell_type": "code",
   "execution_count": 8,
   "metadata": {},
   "outputs": [
    {
     "data": {
      "text/html": [
       "\n",
       "        <table>\n",
       "            <tr>\n",
       "                <th>Lambda_b->Lambdacharmonium::K1ss</th>\n",
       "                <td>(eos.Observable)</td>\n",
       "            </tr>\n",
       "            <tr>\n",
       "                <th>current value</th>\n",
       "                <td><tt>0.377</tt></td>\n",
       "            </tr>\n",
       "        </table>"
      ],
      "text/plain": [
       "<_eos.Observable at 0x7f0db81ad8c8>"
      ]
     },
     "execution_count": 8,
     "metadata": {},
     "output_type": "execute_result"
    }
   ],
   "source": [
    "eos.Observable.make(\"Lambda_b->Lambdacharmonium::K1ss\", analysis.parameters, eos.Kinematics(), eos.Options())"
   ]
  },
  {
   "cell_type": "code",
   "execution_count": 9,
   "metadata": {},
   "outputs": [
    {
     "data": {
      "text/html": [
       "\n",
       "        <table>\n",
       "            <tr>\n",
       "                <th>Lambda_b->Lambdacharmonium::K1cc</th>\n",
       "                <td>(eos.Observable)</td>\n",
       "            </tr>\n",
       "            <tr>\n",
       "                <th>current value</th>\n",
       "                <td><tt>0.246</tt></td>\n",
       "            </tr>\n",
       "        </table>"
      ],
      "text/plain": [
       "<_eos.Observable at 0x7f0db81ad870>"
      ]
     },
     "execution_count": 9,
     "metadata": {},
     "output_type": "execute_result"
    }
   ],
   "source": [
    "eos.Observable.make(\"Lambda_b->Lambdacharmonium::K1cc\", analysis.parameters, eos.Kinematics(), eos.Options())"
   ]
  },
  {
   "cell_type": "code",
   "execution_count": 10,
   "metadata": {},
   "outputs": [
    {
     "data": {
      "text/html": [
       "\n",
       "        <table>\n",
       "            <tr>\n",
       "                <th>Lambda_b->Lambdacharmonium::K2cc</th>\n",
       "                <td>(eos.Observable)</td>\n",
       "            </tr>\n",
       "            <tr>\n",
       "                <th>current value</th>\n",
       "                <td><tt>-0.177</tt></td>\n",
       "            </tr>\n",
       "        </table>"
      ],
      "text/plain": [
       "<_eos.Observable at 0x7f0d5dddf2f0>"
      ]
     },
     "execution_count": 10,
     "metadata": {},
     "output_type": "execute_result"
    }
   ],
   "source": [
    "eos.Observable.make(\"Lambda_b->Lambdacharmonium::K2cc\", analysis.parameters, eos.Kinematics(), eos.Options())"
   ]
  },
  {
   "cell_type": "code",
   "execution_count": 11,
   "metadata": {},
   "outputs": [
    {
     "data": {
      "text/html": [
       "\n",
       "        <table>\n",
       "            <tr>\n",
       "                <th>Lambda_b->Lambdacharmonium::K2ss</th>\n",
       "                <td>(eos.Observable)</td>\n",
       "            </tr>\n",
       "            <tr>\n",
       "                <th>current value</th>\n",
       "                <td><tt>-0.273</tt></td>\n",
       "            </tr>\n",
       "        </table>"
      ],
      "text/plain": [
       "<_eos.Observable at 0x7f0d5dddf710>"
      ]
     },
     "execution_count": 11,
     "metadata": {},
     "output_type": "execute_result"
    }
   ],
   "source": [
    "eos.Observable.make(\"Lambda_b->Lambdacharmonium::K2ss\", analysis.parameters, eos.Kinematics(), eos.Options())"
   ]
  },
  {
   "cell_type": "code",
   "execution_count": 12,
   "metadata": {},
   "outputs": [
    {
     "data": {
      "text/html": [
       "\n",
       "        <table>\n",
       "            <tr>\n",
       "                <th>Lambda_b->Lambdacharmonium::K3sc</th>\n",
       "                <td>(eos.Observable)</td>\n",
       "            </tr>\n",
       "            <tr>\n",
       "                <th>current value</th>\n",
       "                <td><tt>-0.021</tt></td>\n",
       "            </tr>\n",
       "        </table>"
      ],
      "text/plain": [
       "<_eos.Observable at 0x7f0d5dddf7c0>"
      ]
     },
     "execution_count": 12,
     "metadata": {},
     "output_type": "execute_result"
    }
   ],
   "source": [
    "eos.Observable.make(\"Lambda_b->Lambdacharmonium::K3sc\", analysis.parameters, eos.Kinematics(), eos.Options())"
   ]
  },
  {
   "cell_type": "code",
   "execution_count": 13,
   "metadata": {},
   "outputs": [
    {
     "data": {
      "text/html": [
       "\n",
       "        <table>\n",
       "            <tr>\n",
       "                <th>Lambda_b->Lambdacharmonium::K4sc</th>\n",
       "                <td>(eos.Observable)</td>\n",
       "            </tr>\n",
       "            <tr>\n",
       "                <th>current value</th>\n",
       "                <td><tt>0.026</tt></td>\n",
       "            </tr>\n",
       "        </table>"
      ],
      "text/plain": [
       "<_eos.Observable at 0x7f0d5dddf3a0>"
      ]
     },
     "execution_count": 13,
     "metadata": {},
     "output_type": "execute_result"
    }
   ],
   "source": [
    "eos.Observable.make(\"Lambda_b->Lambdacharmonium::K4sc\", analysis.parameters, eos.Kinematics(), eos.Options())"
   ]
  },
  {
   "cell_type": "code",
   "execution_count": 14,
   "metadata": {},
   "outputs": [
    {
     "data": {
      "text/html": [
       "\n",
       "        <table>\n",
       "            <tr>\n",
       "                <th>Lambda_b->Lambdacharmonium::alpha_b</th>\n",
       "                <td>(eos.Observable)</td>\n",
       "            </tr>\n",
       "            <tr>\n",
       "                <th>current value</th>\n",
       "                <td><tt>-0.01996</tt></td>\n",
       "            </tr>\n",
       "        </table>"
      ],
      "text/plain": [
       "<_eos.Observable at 0x7f0d5dddf558>"
      ]
     },
     "execution_count": 14,
     "metadata": {},
     "output_type": "execute_result"
    }
   ],
   "source": [
    "eos.Observable.make(\"Lambda_b->Lambdacharmonium::alpha_b\", analysis.parameters, eos.Kinematics(), eos.Options())"
   ]
  },
  {
   "cell_type": "code",
   "execution_count": 15,
   "metadata": {},
   "outputs": [
    {
     "data": {
      "text/html": [
       "\n",
       "        <table>\n",
       "            <tr>\n",
       "                <th>Lambda_b->Lambdacharmonium::branching_ratio</th>\n",
       "                <td>(eos.Observable)</td>\n",
       "            </tr>\n",
       "            <tr>\n",
       "                <th>current value</th>\n",
       "                <td><tt>0.0003699</tt></td>\n",
       "            </tr>\n",
       "        </table>"
      ],
      "text/plain": [
       "<_eos.Observable at 0x7f0d5de10608>"
      ]
     },
     "execution_count": 15,
     "metadata": {},
     "output_type": "execute_result"
    }
   ],
   "source": [
    "eos.Observable.make(\"Lambda_b->Lambdacharmonium::branching_ratio\", analysis.parameters, eos.Kinematics(), eos.Options())"
   ]
  },
  {
   "cell_type": "code",
   "execution_count": null,
   "metadata": {},
   "outputs": [],
   "source": []
  },
  {
   "cell_type": "code",
   "execution_count": null,
   "metadata": {},
   "outputs": [],
   "source": []
  },
  {
   "cell_type": "code",
   "execution_count": null,
   "metadata": {},
   "outputs": [],
   "source": []
  },
  {
   "cell_type": "code",
   "execution_count": null,
   "metadata": {},
   "outputs": [],
   "source": []
  },
  {
   "cell_type": "code",
   "execution_count": null,
   "metadata": {},
   "outputs": [],
   "source": []
  },
  {
   "cell_type": "code",
   "execution_count": null,
   "metadata": {},
   "outputs": [],
   "source": []
  },
  {
   "cell_type": "code",
   "execution_count": null,
   "metadata": {},
   "outputs": [],
   "source": []
  },
  {
   "cell_type": "code",
   "execution_count": 16,
   "metadata": {},
   "outputs": [
    {
     "data": {
      "text/html": [
       "\n",
       "        <table>\n",
       "            <tr>\n",
       "                <th>Lambda_b->Lambda::re_H_V_long(q2)</th>\n",
       "                <td>(eos.Observable)</td>\n",
       "            </tr>\n",
       "            <tr>\n",
       "                <th>current value</th>\n",
       "                <td><tt>2.546e-07</tt></td>\n",
       "            </tr>\n",
       "        </table>"
      ],
      "text/plain": [
       "<_eos.Observable at 0x7f0d5de10870>"
      ]
     },
     "execution_count": 16,
     "metadata": {},
     "output_type": "execute_result"
    }
   ],
   "source": [
    "eos.Observable.make(\"Lambda_b->Lambda::re_H_V_long(q2)\", analysis.parameters, eos.Kinematics(q2=2), eos.Options())"
   ]
  },
  {
   "cell_type": "code",
   "execution_count": 17,
   "metadata": {
    "scrolled": true
   },
   "outputs": [
    {
     "data": {
      "text/html": [
       "\n",
       "        <table>\n",
       "            <tr>\n",
       "                <th>Lambda_b->Lambda::re_H_V_perp(q2)</th>\n",
       "                <td>(eos.Observable)</td>\n",
       "            </tr>\n",
       "            <tr>\n",
       "                <th>current value</th>\n",
       "                <td><tt>6.938e-08</tt></td>\n",
       "            </tr>\n",
       "        </table>"
      ],
      "text/plain": [
       "<_eos.Observable at 0x7f0d5de10d40>"
      ]
     },
     "execution_count": 17,
     "metadata": {},
     "output_type": "execute_result"
    }
   ],
   "source": [
    "eos.Observable.make(\"Lambda_b->Lambda::re_H_V_perp(q2)\", analysis.parameters, eos.Kinematics(q2=2), eos.Options())"
   ]
  },
  {
   "cell_type": "code",
   "execution_count": 18,
   "metadata": {},
   "outputs": [
    {
     "data": {
      "text/html": [
       "\n",
       "        <table>\n",
       "            <tr>\n",
       "                <th>Lambda_b->Lambda::re_H_A_long(q2)</th>\n",
       "                <td>(eos.Observable)</td>\n",
       "            </tr>\n",
       "            <tr>\n",
       "                <th>current value</th>\n",
       "                <td><tt>2.868e-07</tt></td>\n",
       "            </tr>\n",
       "        </table>"
      ],
      "text/plain": [
       "<_eos.Observable at 0x7f0d5de10c38>"
      ]
     },
     "execution_count": 18,
     "metadata": {},
     "output_type": "execute_result"
    }
   ],
   "source": [
    "eos.Observable.make(\"Lambda_b->Lambda::re_H_A_long(q2)\", analysis.parameters, eos.Kinematics(q2=2), eos.Options())"
   ]
  },
  {
   "cell_type": "code",
   "execution_count": 19,
   "metadata": {},
   "outputs": [
    {
     "data": {
      "text/html": [
       "\n",
       "        <table>\n",
       "            <tr>\n",
       "                <th>Lambda_b->Lambda::im_H_A_long(q2)</th>\n",
       "                <td>(eos.Observable)</td>\n",
       "            </tr>\n",
       "            <tr>\n",
       "                <th>current value</th>\n",
       "                <td><tt>5.527e-08</tt></td>\n",
       "            </tr>\n",
       "        </table>"
      ],
      "text/plain": [
       "<_eos.Observable at 0x7f0d5de10d98>"
      ]
     },
     "execution_count": 19,
     "metadata": {},
     "output_type": "execute_result"
    }
   ],
   "source": [
    "eos.Observable.make(\"Lambda_b->Lambda::im_H_A_long(q2)\", analysis.parameters, eos.Kinematics(q2=2), eos.Options())"
   ]
  },
  {
   "cell_type": "code",
   "execution_count": 20,
   "metadata": {},
   "outputs": [
    {
     "data": {
      "text/html": [
       "\n",
       "        <table>\n",
       "            <tr>\n",
       "                <th>Lambda_b->Lambda::re_H_A_perp(q2)</th>\n",
       "                <td>(eos.Observable)</td>\n",
       "            </tr>\n",
       "            <tr>\n",
       "                <th>current value</th>\n",
       "                <td><tt>7.437e-08</tt></td>\n",
       "            </tr>\n",
       "        </table>"
      ],
      "text/plain": [
       "<_eos.Observable at 0x7f0d5de10f50>"
      ]
     },
     "execution_count": 20,
     "metadata": {},
     "output_type": "execute_result"
    }
   ],
   "source": [
    "eos.Observable.make(\"Lambda_b->Lambda::re_H_A_perp(q2)\", analysis.parameters, eos.Kinematics(q2=2), eos.Options())"
   ]
  },
  {
   "cell_type": "code",
   "execution_count": 21,
   "metadata": {},
   "outputs": [
    {
     "data": {
      "text/html": [
       "\n",
       "        <table>\n",
       "            <tr>\n",
       "                <th>Lambda_b->Lambda::im_H_A_perp(q2)</th>\n",
       "                <td>(eos.Observable)</td>\n",
       "            </tr>\n",
       "            <tr>\n",
       "                <th>current value</th>\n",
       "                <td><tt>5.064e-07</tt></td>\n",
       "            </tr>\n",
       "        </table>"
      ],
      "text/plain": [
       "<_eos.Observable at 0x7f0d5dd64030>"
      ]
     },
     "execution_count": 21,
     "metadata": {},
     "output_type": "execute_result"
    }
   ],
   "source": [
    "eos.Observable.make(\"Lambda_b->Lambda::im_H_A_perp(q2)\", analysis.parameters, eos.Kinematics(q2=2), eos.Options())\n"
   ]
  },
  {
   "cell_type": "code",
   "execution_count": null,
   "metadata": {},
   "outputs": [],
   "source": []
  },
  {
   "cell_type": "code",
   "execution_count": null,
   "metadata": {},
   "outputs": [],
   "source": []
  },
  {
   "cell_type": "code",
   "execution_count": null,
   "metadata": {},
   "outputs": [],
   "source": []
  },
  {
   "cell_type": "code",
   "execution_count": null,
   "metadata": {},
   "outputs": [],
   "source": []
  },
  {
   "cell_type": "code",
   "execution_count": null,
   "metadata": {},
   "outputs": [],
   "source": []
  },
  {
   "cell_type": "code",
   "execution_count": null,
   "metadata": {},
   "outputs": [],
   "source": []
  },
  {
   "cell_type": "code",
   "execution_count": 22,
   "metadata": {},
   "outputs": [
    {
     "name": "stderr",
     "output_type": "stream",
     "text": [
      "100%|██████████| 100/100 [00:12<00:00,  7.82it/s]\n",
      "100%|██████████| 100/100 [00:12<00:00,  7.72it/s]\n",
      "100%|██████████| 100/100 [00:13<00:00,  7.68it/s]\n",
      "100%|██████████| 100/100 [00:13<00:00,  7.67it/s]\n"
     ]
    }
   ],
   "source": [
    "q2values  = np.unique(np.concatenate((np.linspace(-10, 0, 20), np.linspace(0, 10, 20))))\n",
    "re_H_V_perp_obs       = [eos.Observable.make(\n",
    "                   \"Lambda_b->Lambda::re_H_V_perp(q2)\", analysis.parameters, eos.Kinematics(q2=q2),\n",
    "                   eos.Options())\n",
    "               for q2 in q2values]\n",
    "ff_V_perp       = [eos.Observable.make(\"Lambda_b->Lambda::f_perp^V(q2)\", analysis.parameters, eos.Kinematics(q2=q2), \n",
    "                    eos.Options(**{'form-factors': 'DM2016'}))\n",
    "               for q2 in q2values]\n",
    "##=======================================================##\n",
    "re_H_V_long_obs       = [eos.Observable.make(\n",
    "                   \"Lambda_b->Lambda::re_H_V_long(q2)\", analysis.parameters, eos.Kinematics(q2=q2),\n",
    "                   eos.Options())\n",
    "               for q2 in q2values]\n",
    "\n",
    "re_H_A_perp_obs       = [eos.Observable.make(\n",
    "                   \"Lambda_b->Lambda::re_H_A_perp(q2)\", analysis.parameters, eos.Kinematics(q2=q2),\n",
    "                   eos.Options())\n",
    "               for q2 in q2values]\n",
    "re_H_A_long_obs       = [eos.Observable.make(\n",
    "                   \"Lambda_b->Lambda::re_H_A_long(q2)\", analysis.parameters, eos.Kinematics(q2=q2),\n",
    "                   eos.Options())\n",
    "               for q2 in q2values]\n",
    "\n",
    "_, log_weights, re_H_V_perp_samples  = analysis.sample(N=5000, pre_N=1000, stride=10,preruns=50,observables=re_H_V_perp_obs)\n",
    "#_, log_weights, ff_V_perp_samples  = analysis.sample(N=5000, pre_N=1000, stride=10,preruns=50,observables=ff_V_perp)\n",
    "##=======================================================##\n",
    "\n",
    "_, log_weights, re_H_V_long_samples  = analysis.sample(N=5000, pre_N=1000, stride=10,preruns=50,observables=re_H_V_long_obs)\n",
    "\n",
    "_, log_weights, re_H_A_perp_samples  = analysis.sample(N=5000, pre_N=1000, stride=10,preruns=50,observables=re_H_A_perp_obs)\n",
    "_, log_weights, re_H_A_long_samples  = analysis.sample(N=5000, pre_N=1000, stride=10,preruns=50,observables=re_H_A_long_obs)\n",
    "\n"
   ]
  },
  {
   "cell_type": "code",
   "execution_count": 23,
   "metadata": {},
   "outputs": [
    {
     "name": "stderr",
     "output_type": "stream",
     "text": [
      "findfont: Font family ['serif'] not found. Falling back to DejaVu Sans.\n"
     ]
    },
    {
     "data": {
      "image/png": "[encoded data removed]",
      "text/plain": [
       "<Figure size 432x288 with 1 Axes>"
      ]
     },
     "metadata": {
      "needs_background": "light"
     },
     "output_type": "display_data"
    }
   ],
   "source": [
    "plot_args = {\n",
    "    'plot': {\n",
    "        'x': { 'label': r'$q^2$', 'unit': r'$\\textnormal{GeV}^2$', 'range': [-7,4] },\n",
    "        'y': { 'label': r'Re $\\mathcal{H}_{\\Gamma,\\lambda}(q^2)$', 'range':[-0.02,0.02]   },\n",
    "        'legend': { 'location': 'lower left' }\n",
    "    },\n",
    "    'contents': [\n",
    "        {\n",
    "          'label': r'Re $\\mathcal{H}_{V,\\perp}(q^2)$', 'type': 'uncertainty', 'range': [-7, 11.60],\n",
    "          'data': { 'samples': re_H_V_perp_samples, 'xvalues': q2values }\n",
    "        },\n",
    "        {\n",
    "          'label': r'Re $\\mathcal{H}_{V, 0}(q^2)$', 'type': 'uncertainty', 'range': [-7, 11.60],\n",
    "          'data': { 'samples': re_H_V_long_samples, 'xvalues': q2values }\n",
    "        },\n",
    "        {\n",
    "          'label': r'Re $\\mathcal{H}_{A,\\perp}(q^2)$', 'type': 'uncertainty', 'range': [0.001, 11.60],\n",
    "          'data': { 'samples': re_H_A_perp_samples, 'xvalues': q2values }\n",
    "        },\n",
    "        {\n",
    "          'label': r'Re $\\mathcal{H}_{A, 0}(q^2)$', 'type': 'uncertainty', 'range': [0.001, 11.60],\n",
    "          'data': { 'samples': re_H_A_long_samples, 'xvalues': q2values }\n",
    "        },\n",
    "    ]\n",
    "}\n",
    "eos.plot.Plotter(plot_args,\"Re_NonLocal.jpg\").plot()"
   ]
  },
  {
   "cell_type": "code",
   "execution_count": null,
   "metadata": {},
   "outputs": [],
   "source": []
  },
  {
   "cell_type": "code",
   "execution_count": null,
   "metadata": {},
   "outputs": [],
   "source": []
  },
  {
   "cell_type": "code",
   "execution_count": 24,
   "metadata": {},
   "outputs": [
    {
     "name": "stderr",
     "output_type": "stream",
     "text": [
      "100%|██████████| 100/100 [00:13<00:00,  7.69it/s]\n",
      "100%|██████████| 100/100 [00:12<00:00,  7.73it/s]\n",
      "100%|██████████| 100/100 [00:13<00:00,  7.69it/s]\n",
      "100%|██████████| 100/100 [00:13<00:00,  7.69it/s]\n"
     ]
    }
   ],
   "source": [
    "q2values  = np.unique(np.concatenate((np.linspace(-10, 0, 20), np.linspace(0, 10, 20))))\n",
    "im_H_V_perp_obs       = [eos.Observable.make(\n",
    "                   \"Lambda_b->Lambda::im_H_V_perp(q2)\", analysis.parameters, eos.Kinematics(q2=q2),\n",
    "                   eos.Options())\n",
    "               for q2 in q2values]\n",
    "im_H_V_long_obs       = [eos.Observable.make(\n",
    "                   \"Lambda_b->Lambda::im_H_V_long(q2)\", analysis.parameters, eos.Kinematics(q2=q2),\n",
    "                   eos.Options())\n",
    "               for q2 in q2values]\n",
    "\n",
    "im_H_A_perp_obs       = [eos.Observable.make(\n",
    "                   \"Lambda_b->Lambda::im_H_A_perp(q2)\", analysis.parameters, eos.Kinematics(q2=q2),\n",
    "                   eos.Options())\n",
    "               for q2 in q2values]\n",
    "im_H_A_long_obs       = [eos.Observable.make(\n",
    "                   \"Lambda_b->Lambda::im_H_A_long(q2)\", analysis.parameters, eos.Kinematics(q2=q2),\n",
    "                   eos.Options())\n",
    "               for q2 in q2values]\n",
    "\n",
    "_, log_weights, im_H_V_perp_samples  = analysis.sample(N=5000, pre_N=1000, stride=10,preruns=50,observables=im_H_V_perp_obs)\n",
    "_, log_weights, im_H_V_long_samples  = analysis.sample(N=5000, pre_N=1000, stride=10,preruns=50, observables=im_H_V_long_obs)\n",
    "\n",
    "_, log_weights, im_H_A_perp_samples  = analysis.sample(N=5000, pre_N=1000, stride=10,preruns=50,observables=im_H_A_perp_obs)\n",
    "_, log_weights, im_H_A_long_samples  = analysis.sample(N=5000, pre_N=1000, stride=10,preruns=50,observables=im_H_A_long_obs)\n",
    "\n"
   ]
  },
  {
   "cell_type": "code",
   "execution_count": 25,
   "metadata": {},
   "outputs": [
    {
     "data": {
      "image/png": "[encoded data removed]",
      "text/plain": [
       "<Figure size 432x288 with 1 Axes>"
      ]
     },
     "metadata": {
      "needs_background": "light"
     },
     "output_type": "display_data"
    }
   ],
   "source": [
    "plot_args = {\n",
    "    'plot': {\n",
    "        'x': { 'label': r'$q^2$', 'unit': r'$\\textnormal{GeV}^2$', 'range': [-7,4] },\n",
    "        'y': { 'label': r'Im $\\mathcal{H}_{\\Gamma,\\lambda}(q^2)$', 'range':[-0.03,0.02]   },\n",
    "        'legend': { 'location': 'lower left' }\n",
    "    },\n",
    "    'contents': [\n",
    "        {\n",
    "          'label': r'Im $\\mathcal{H}_{V,\\perp}(q^2)$', 'type': 'uncertainty', 'range': [-7, 11.60],\n",
    "          'data': { 'samples': im_H_V_perp_samples, 'xvalues': q2values }\n",
    "        },\n",
    "        {\n",
    "          'label': r'Im $\\mathcal{H}_{V, 0}(q^2)$', 'type': 'uncertainty', 'range': [-7, 11.60],\n",
    "          'data': { 'samples': im_H_V_long_samples, 'xvalues': q2values }\n",
    "        },\n",
    "        {\n",
    "          'label': r'Im $\\mathcal{H}_{A,\\perp}(q^2)$', 'type': 'uncertainty', 'range': [0.001, 11.60],\n",
    "          'data': { 'samples': im_H_A_perp_samples, 'xvalues': q2values }\n",
    "        },\n",
    "        {\n",
    "          'label': r'Im $\\mathcal{H}_{A, 0}(q^2)$', 'type': 'uncertainty', 'range': [0.001, 11.60],\n",
    "          'data': { 'samples': im_H_A_long_samples, 'xvalues': q2values }\n",
    "        },\n",
    "    ]\n",
    "}\n",
    "eos.plot.Plotter(plot_args,\"Im_NonLocal.jpg\").plot()"
   ]
  },
  {
   "cell_type": "code",
   "execution_count": null,
   "metadata": {},
   "outputs": [],
   "source": []
  },
  {
   "cell_type": "code",
   "execution_count": null,
   "metadata": {},
   "outputs": [],
   "source": []
  },
  {
   "cell_type": "code",
   "execution_count": null,
   "metadata": {},
   "outputs": [],
   "source": []
  },
  {
   "cell_type": "code",
   "execution_count": null,
   "metadata": {},
   "outputs": [],
   "source": []
  },
  {
   "cell_type": "code",
   "execution_count": null,
   "metadata": {},
   "outputs": [],
   "source": []
  },
  {
   "cell_type": "code",
   "execution_count": null,
   "metadata": {},
   "outputs": [],
   "source": []
  },
  {
   "cell_type": "code",
   "execution_count": null,
   "metadata": {},
   "outputs": [],
   "source": []
  },
  {
   "cell_type": "code",
   "execution_count": 26,
   "metadata": {},
   "outputs": [
    {
     "name": "stdout",
     "output_type": "stream",
     "text": [
      "FF: f_long^T(q2), q2: -7, val: -0.027752996147376637\n",
      "FF: f_perp^T(q2), q2: -7, val: 0.11951369606619909\n",
      "FF: f_long^T5(q2), q2: -7, val: -0.02928379560358907\n",
      "FF: f_perp^T5(q2), q2: -7, val: 0.07922404242827455\n",
      "=========================================================\n",
      "FF: f_long^T(q2), q2: -6, val: -0.025324448366650376\n",
      "FF: f_perp^T(q2), q2: -6, val: 0.12846023039959933\n",
      "FF: f_long^T5(q2), q2: -6, val: -0.026641037702643214\n",
      "FF: f_perp^T5(q2), q2: -6, val: 0.08441068698647698\n",
      "=========================================================\n",
      "FF: f_long^T(q2), q2: -5, val: -0.022480080425689324\n",
      "FF: f_perp^T(q2), q2: -5, val: 0.13809554948690353\n",
      "FF: f_long^T5(q2), q2: -5, val: -0.023574677348026513\n",
      "FF: f_perp^T5(q2), q2: -5, val: 0.08996475441639411\n",
      "=========================================================\n",
      "FF: f_long^T(q2), q2: -4, val: -0.019170038950954173\n",
      "FF: f_perp^T(q2), q2: -4, val: 0.148490917359436\n",
      "FF: f_long^T5(q2), q2: -4, val: -0.020037564247979017\n",
      "FF: f_perp^T5(q2), q2: -4, val: 0.09592121942808925\n",
      "=========================================================\n",
      "FF: f_long^T(q2), q2: -3, val: -0.015337374254679084\n",
      "FF: f_perp^T(q2), q2: -3, val: 0.15972718225627214\n",
      "FF: f_long^T5(q2), q2: -3, val: -0.015976360073032096\n",
      "FF: f_perp^T5(q2), q2: -3, val: 0.10231936819294173\n",
      "=========================================================\n",
      "FF: f_long^T(q2), q2: -2, val: -0.010916809978485207\n",
      "FF: f_perp^T(q2), q2: -2, val: 0.1718963923521357\n",
      "FF: f_long^T5(q2), q2: -2, val: -0.011330555306442423\n",
      "FF: f_perp^T5(q2), q2: -2, val: 0.10920346157924676\n",
      "=========================================================\n",
      "FF: f_long^T(q2), q2: -1, val: -0.005833255860683524\n",
      "FF: f_perp^T(q2), q2: -1, val: 0.18510374351796766\n",
      "FF: f_long^T5(q2), q2: -1, val: -0.00603129907648589\n",
      "FF: f_perp^T5(q2), q2: -1, val: 0.11662352216429478\n",
      "=========================================================\n"
     ]
    }
   ],
   "source": [
    "ff_list = [\"f_long^T(q2)\",\"f_perp^T(q2)\",\"f_long^T5(q2)\",\"f_perp^T5(q2)\"]\n",
    "m_psi = 3.0969\n",
    "m_Lam = 1.115683\n",
    "m_LamB = 5.61960\n",
    "\n",
    "for q2_val in np.arange(-7,0,1):\n",
    "    kin = eos.Kinematics(q2= float(q2_val))\n",
    "    for ff in ff_list:        \n",
    "        obs=eos.Observable.make(\"Lambda_b->Lambda::\"+ff, analysis.parameters, kin, eos.Options(**{'form-factors': 'DM2016'}))\n",
    "        obs = obs.evaluate()\n",
    "        \n",
    "        if ff == \"f_long^T(q2)\":\n",
    "            obs = q2_val/((m_LamB+m_Lam)*m_LamB) * obs\n",
    "            msg = \"FF: {}, q2: {}, val: {}\".format(ff, q2_val, obs)\n",
    "            print(msg)\n",
    "        elif ff == \"f_perp^T(q2)\":\n",
    "            obs = (m_LamB+m_Lam)/m_LamB * obs\n",
    "            msg = \"FF: {}, q2: {}, val: {}\".format(ff, q2_val, obs)\n",
    "            print(msg)\n",
    "        elif ff == \"f_long^T5(q2)\":\n",
    "            obs = q2_val/((m_LamB-m_Lam)*m_LamB) * obs\n",
    "            msg = \"FF: {}, q2: {}, val: {}\".format(ff, q2_val, obs)\n",
    "            print(msg)\n",
    "        elif ff == \"f_perp^T5(q2)\":\n",
    "            obs = (m_LamB-m_Lam)/m_LamB * obs\n",
    "            msg = \"FF: {}, q2: {}, val: {}\".format(ff, q2_val, obs)\n",
    "            print(msg)\n",
    "    print(\"=========================================================\")"
   ]
  },
  {
   "cell_type": "code",
   "execution_count": 27,
   "metadata": {},
   "outputs": [
    {
     "data": {
      "text/html": [
       "\n",
       "        <table>\n",
       "            <tr>\n",
       "                <th>Lambda_b->Lambda::f_long^A(q2)</th>\n",
       "                <td>(eos.Observable)</td>\n",
       "            </tr>\n",
       "            <tr>\n",
       "                <th>current value</th>\n",
       "                <td><tt>0.1012</tt></td>\n",
       "            </tr>\n",
       "        </table>"
      ],
      "text/plain": [
       "<_eos.Observable at 0x7f0d7df4f9d0>"
      ]
     },
     "execution_count": 27,
     "metadata": {},
     "output_type": "execute_result"
    }
   ],
   "source": [
    "kin=eos.Kinematics(q2=-1)\n",
    "eos.Observable.make(\"Lambda_b->Lambda::f_long^A(q2)\", analysis.parameters, kin, eos.Options(**{'form-factors': 'DM2016'}))\n"
   ]
  },
  {
   "cell_type": "code",
   "execution_count": null,
   "metadata": {},
   "outputs": [],
   "source": []
  }
 ],
 "metadata": {
  "kernelspec": {
   "display_name": "Python 3",
   "language": "python",
   "name": "python3"
  },
  "language_info": {
   "codemirror_mode": {
    "name": "ipython",
    "version": 3
   },
   "file_extension": ".py",
   "mimetype": "text/x-python",
   "name": "python",
   "nbconvert_exporter": "python",
   "pygments_lexer": "ipython3",
   "version": "3.6.9"
  }
 },
 "nbformat": 4,
 "nbformat_minor": 4
}
