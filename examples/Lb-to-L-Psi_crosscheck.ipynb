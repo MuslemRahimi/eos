{
 "cells": [
  {
   "cell_type": "code",
   "execution_count": 1,
   "metadata": {},
   "outputs": [],
   "source": [
    "import eos\n",
    "import numpy as np\n",
    "import matplotlib.pyplot as plt\n",
    "import random\n",
    "\n",
    "random.seed(114)"
   ]
  },
  {
   "cell_type": "code",
   "execution_count": null,
   "metadata": {},
   "outputs": [],
   "source": []
  },
  {
   "cell_type": "code",
   "execution_count": 2,
   "metadata": {},
   "outputs": [],
   "source": [
    "#eos.Observables(prefix='L')"
   ]
  },
  {
   "cell_type": "code",
   "execution_count": 3,
   "metadata": {
    "scrolled": false
   },
   "outputs": [],
   "source": [
    "#eos.Observables(prefix='L', name='a')"
   ]
  },
  {
   "cell_type": "code",
   "execution_count": 4,
   "metadata": {},
   "outputs": [],
   "source": [
    "analysis_args = {\n",
    "    'global_options': { 'form-factors': 'BRvD2021', 'model': 'SM', 'psi' : 'J/psi' },\n",
    "    'priors': [\n",
    "        { 'parameter': 'Lambda_b->Lambdaccbar::Re{alpha_0^V_long}@BRvD2021', 'min': -100.0, 'max':  100.0 , 'type': 'uniform'},\n",
    "        { 'parameter': 'Lambda_b->Lambdaccbar::Im{alpha_0^V_long}@BRvD2021', 'min': -100.0, 'max':  100.0 , 'type': 'uniform'},\n",
    "        { 'parameter': 'Lambda_b->Lambdaccbar::Re{alpha_0^V_perp}@BRvD2021', 'min': -100.0, 'max':  100.0 , 'type': 'uniform'},\n",
    "        { 'parameter': 'Lambda_b->Lambdaccbar::Im{alpha_0^V_perp}@BRvD2021', 'min': -100.0, 'max':  100.0 , 'type': 'uniform'},\n",
    "        { 'parameter': 'Lambda_b->Lambdaccbar::Re{alpha_0^A_long}@BRvD2021', 'min': -100.0, 'max':  100.0 , 'type': 'uniform'},\n",
    "        { 'parameter': 'Lambda_b->Lambdaccbar::Im{alpha_0^A_long}@BRvD2021', 'min': -100.0, 'max':  100.0 , 'type': 'uniform'},\n",
    "        { 'parameter': 'Lambda_b->Lambdaccbar::Re{alpha_0^A_perp}@BRvD2021', 'min': -100.0, 'max':  100.0 , 'type': 'uniform'},\n",
    "        { 'parameter': 'Lambda_b->Lambdaccbar::Im{alpha_0^A_perp}@BRvD2021', 'min': -100.0, 'max':  100.0 , 'type': 'uniform'}\n",
    "        \n",
    "    ],\n",
    "    'likelihood': [\n",
    "        'Lambda_b->LambdaJpsi::K1ss@LHCb-2020',  \n",
    "        'Lambda_b->LambdaJpsi::K1cc@LHCb-2020',\n",
    "        'Lambda_b->LambdaJpsi::K2ss@LHCb-2020',\n",
    "        'Lambda_b->LambdaJpsi::K2cc@LHCb-2020',\n",
    "        'Lambda_b->LambdaJpsi::K3sc@LHCb-2020',  \n",
    "        'Lambda_b->LambdaJpsi::K4sc@LHCb-2020',\n",
    "        'Lambda_b->LambdaJpsi::branching_ratio@HFLAV-2016',\n",
    "        'Lambda_b->Lambda::re_H_V_perp7@BRvD2021',\n",
    "        'Lambda_b->Lambda::im_H_V_perp7@BRvD2021',\n",
    "        'Lambda_b->Lambda::re_H_V_perp5@BRvD2021',\n",
    "        'Lambda_b->Lambda::im_H_V_perp5@BRvD2021',\n",
    "        'Lambda_b->Lambda::re_H_V_perp3@BRvD2021',\n",
    "        'Lambda_b->Lambda::im_H_V_perp3@BRvD2021',\n",
    "        'Lambda_b->Lambda::re_H_V_perp1@BRvD2021',\n",
    "        'Lambda_b->Lambda::im_H_V_perp1@BRvD2021',\n",
    "        'Lambda_b->Lambda::re_H_V_long7@BRvD2021',\n",
    "        'Lambda_b->Lambda::im_H_V_long7@BRvD2021',\n",
    "        'Lambda_b->Lambda::re_H_V_long5@BRvD2021',\n",
    "        'Lambda_b->Lambda::im_H_V_long5@BRvD2021',\n",
    "        'Lambda_b->Lambda::re_H_V_long3@BRvD2021',\n",
    "        'Lambda_b->Lambda::im_H_V_long3@BRvD2021',\n",
    "        'Lambda_b->Lambda::re_H_V_long1@BRvD2021',\n",
    "        'Lambda_b->Lambda::im_H_V_long1@BRvD2021',\n",
    "        'Lambda_b->Lambda::re_H_A_perp7@BRvD2021',\n",
    "        'Lambda_b->Lambda::im_H_A_perp7@BRvD2021',\n",
    "        'Lambda_b->Lambda::re_H_A_perp5@BRvD2021',\n",
    "        'Lambda_b->Lambda::im_H_A_perp5@BRvD2021',\n",
    "        'Lambda_b->Lambda::re_H_A_perp3@BRvD2021',\n",
    "        'Lambda_b->Lambda::im_H_A_perp3@BRvD2021',\n",
    "        'Lambda_b->Lambda::re_H_A_perp1@BRvD2021',\n",
    "        'Lambda_b->Lambda::im_H_A_perp1@BRvD2021',\n",
    "        'Lambda_b->Lambda::re_H_A_long7@BRvD2021',\n",
    "        'Lambda_b->Lambda::im_H_A_long7@BRvD2021',\n",
    "        'Lambda_b->Lambda::re_H_A_long5@BRvD2021',\n",
    "        'Lambda_b->Lambda::im_H_A_long5@BRvD2021',\n",
    "        'Lambda_b->Lambda::re_H_A_long3@BRvD2021',\n",
    "        'Lambda_b->Lambda::im_H_A_long3@BRvD2021',\n",
    "        'Lambda_b->Lambda::re_H_A_long1@BRvD2021',\n",
    "        'Lambda_b->Lambda::im_H_A_long1@BRvD2021',\n",
    "        #'Lambda_b->LambdaJpsi::abs_bplus@LHCb-2020',\n",
    "        #'Lambda_b->LambdaJpsi::arg_bplus@LHCb-2020',\n",
    "    \n",
    "    ]\n",
    "}\n",
    "analysis = eos.Analysis(**analysis_args)\n",
    "\n",
    "\n",
    "analysis.parameters['Lambda_b->Lambdaccbar::Re{alpha_0^V_long}@BRvD2021'].set(random.uniform(0,0.002))\n",
    "#analysis.parameters['Lambda_b->Lambdaccbar::Im{alpha_0^V_long}@BRvD2021'].set(random.uniform(-1.2e-3,1.2e-3))\n",
    "\n",
    "analysis.parameters['Lambda_b->Lambdaccbar::Re{alpha_0^V_perp}@BRvD2021'].set(random.uniform(0,1.0e-3))\n",
    "analysis.parameters['Lambda_b->Lambdaccbar::Im{alpha_0^V_perp}@BRvD2021'].set(random.uniform(-1.2e-3,1.2e-3))\n",
    "\n",
    "analysis.parameters['Lambda_b->Lambdaccbar::Re{alpha_0^A_long}@BRvD2021'].set(random.uniform(-1.2e-3,1.2e-3))\n",
    "analysis.parameters['Lambda_b->Lambdaccbar::Im{alpha_0^A_long}@BRvD2021'].set(random.uniform(-1.2e-3,1.2e-3))\n",
    "\n",
    "analysis.parameters['Lambda_b->Lambdaccbar::Re{alpha_0^A_perp}@BRvD2021'].set(random.uniform(-1.2e-3,1.2e-3))\n",
    "analysis.parameters['Lambda_b->Lambdaccbar::Im{alpha_0^A_perp}@BRvD2021'].set(random.uniform(-1.2e-3,1.2e-3))"
   ]
  },
  {
   "cell_type": "code",
   "execution_count": 5,
   "metadata": {},
   "outputs": [],
   "source": [
    "analysis.parameters[\"mass::J/psi\"].set(3.0969)\n",
    "analysis.parameters[\"mass::psi(2S)\"].set(3.6860)\n",
    "analysis.parameters[\"mass::Lambda\"].set(1.115683)\n",
    "analysis.parameters[\"mass::Lambda_b\"].set(5.61960)\n",
    "analysis.parameters[\"mass::D^0\"].set(1.86483)\n",
    "analysis.parameters[\"b->sccbar::t_0\"].set(9.0)\n",
    "analysis.parameters[\"b->sccbar::t_s\"].set(-17.4724)\n",
    "analysis.parameters[\"b->sccbar::chiOPE@GvDV2020\"].set(1.81e-4)"
   ]
  },
  {
   "cell_type": "code",
   "execution_count": null,
   "metadata": {},
   "outputs": [
    {
     "name": "stderr",
     "output_type": "stream",
     "text": [
      "100%|██████████| 100/100 [00:03<00:00, 33.12it/s]\n"
     ]
    },
    {
     "data": {
      "text/plain": [
       "-0.0016458077061002915"
      ]
     },
     "execution_count": 6,
     "metadata": {},
     "output_type": "execute_result"
    }
   ],
   "source": [
    "#help(analysis.sample)\n",
    "for i in range(1):\n",
    "    rng= np.random.mtrand.RandomState(12345+i)\n",
    "    samples, weights = analysis.sample(N=1000,stride=10,pre_N=500,preruns=50,rng = rng) \n",
    "#norm_weights = np.exp(weights) \n",
    "norm_weights = weights/sum(weights)\n",
    "plt.hist(samples[:,0],weights=norm_weights)\n",
    "np.median(samples[:,0])"
   ]
  },
  {
   "cell_type": "code",
   "execution_count": null,
   "metadata": {
    "scrolled": false
   },
   "outputs": [],
   "source": [
    "bfp = analysis.optimize()\n",
    "display(bfp)\n",
    "display(analysis.goodness_of_fit())"
   ]
  },
  {
   "cell_type": "code",
   "execution_count": null,
   "metadata": {},
   "outputs": [],
   "source": [
    "eos.Observable.make(\"Lambda_b->Lambdacharmonium::abs_aplus\", analysis.parameters, eos.Kinematics(), eos.Options())"
   ]
  },
  {
   "cell_type": "code",
   "execution_count": null,
   "metadata": {},
   "outputs": [],
   "source": [
    "eos.Observable.make(\"Lambda_b->Lambdacharmonium::abs_aminus\", analysis.parameters, eos.Kinematics(), eos.Options())"
   ]
  },
  {
   "cell_type": "code",
   "execution_count": null,
   "metadata": {},
   "outputs": [],
   "source": [
    "eos.Observable.make(\"Lambda_b->Lambdacharmonium::abs_bplus\", analysis.parameters, eos.Kinematics(), eos.Options())"
   ]
  },
  {
   "cell_type": "code",
   "execution_count": null,
   "metadata": {},
   "outputs": [],
   "source": [
    "eos.Observable.make(\"Lambda_b->Lambdacharmonium::abs_bminus\", analysis.parameters, eos.Kinematics(), eos.Options())"
   ]
  },
  {
   "cell_type": "code",
   "execution_count": null,
   "metadata": {},
   "outputs": [],
   "source": [
    "eos.Observable.make(\"Lambda_b->Lambdacharmonium::arg_aplus\", analysis.parameters, eos.Kinematics(), eos.Options())"
   ]
  },
  {
   "cell_type": "code",
   "execution_count": null,
   "metadata": {},
   "outputs": [],
   "source": [
    "eos.Observable.make(\"Lambda_b->Lambdacharmonium::arg_aminus\", analysis.parameters, eos.Kinematics(), eos.Options())"
   ]
  },
  {
   "cell_type": "code",
   "execution_count": null,
   "metadata": {},
   "outputs": [],
   "source": [
    "eos.Observable.make(\"Lambda_b->Lambdacharmonium::arg_bplus\", analysis.parameters, eos.Kinematics(), eos.Options())"
   ]
  },
  {
   "cell_type": "code",
   "execution_count": null,
   "metadata": {},
   "outputs": [],
   "source": [
    "eos.Observable.make(\"Lambda_b->Lambdacharmonium::arg_bminus\", analysis.parameters, eos.Kinematics(), eos.Options())"
   ]
  },
  {
   "cell_type": "code",
   "execution_count": null,
   "metadata": {},
   "outputs": [],
   "source": [
    "eos.Observable.make(\"Lambda_b->Lambdacharmonium::alpha_b\", analysis.parameters, eos.Kinematics(), eos.Options())"
   ]
  },
  {
   "cell_type": "code",
   "execution_count": null,
   "metadata": {},
   "outputs": [],
   "source": [
    "eos.Observable.make(\"Lambda_b->Lambdacharmonium::branching_ratio\", analysis.parameters, eos.Kinematics(), eos.Options())"
   ]
  },
  {
   "cell_type": "code",
   "execution_count": null,
   "metadata": {},
   "outputs": [],
   "source": []
  },
  {
   "cell_type": "code",
   "execution_count": null,
   "metadata": {},
   "outputs": [],
   "source": []
  },
  {
   "cell_type": "code",
   "execution_count": null,
   "metadata": {},
   "outputs": [],
   "source": [
    "eos.Observable.make(\"Lambda_b->Lambda::re_H_V_long(q2)\", analysis.parameters, eos.Kinematics(q2=2), eos.Options())"
   ]
  },
  {
   "cell_type": "code",
   "execution_count": null,
   "metadata": {
    "scrolled": true
   },
   "outputs": [],
   "source": [
    "eos.Observable.make(\"Lambda_b->Lambda::re_H_V_perp(q2)\", analysis.parameters, eos.Kinematics(q2=2), eos.Options())"
   ]
  },
  {
   "cell_type": "code",
   "execution_count": null,
   "metadata": {},
   "outputs": [],
   "source": [
    "eos.Observable.make(\"Lambda_b->Lambda::re_H_A_long(q2)\", analysis.parameters, eos.Kinematics(q2=2), eos.Options())"
   ]
  },
  {
   "cell_type": "code",
   "execution_count": null,
   "metadata": {},
   "outputs": [],
   "source": [
    "eos.Observable.make(\"Lambda_b->Lambda::im_H_A_long(q2)\", analysis.parameters, eos.Kinematics(q2=2), eos.Options())"
   ]
  },
  {
   "cell_type": "code",
   "execution_count": null,
   "metadata": {},
   "outputs": [],
   "source": [
    "eos.Observable.make(\"Lambda_b->Lambda::re_H_A_perp(q2)\", analysis.parameters, eos.Kinematics(q2=2), eos.Options())"
   ]
  },
  {
   "cell_type": "code",
   "execution_count": null,
   "metadata": {},
   "outputs": [],
   "source": [
    "eos.Observable.make(\"Lambda_b->Lambda::im_H_A_perp(q2)\", analysis.parameters, eos.Kinematics(q2=2), eos.Options())\n"
   ]
  },
  {
   "cell_type": "code",
   "execution_count": null,
   "metadata": {},
   "outputs": [],
   "source": []
  },
  {
   "cell_type": "code",
   "execution_count": null,
   "metadata": {},
   "outputs": [],
   "source": []
  },
  {
   "cell_type": "code",
   "execution_count": null,
   "metadata": {},
   "outputs": [],
   "source": []
  },
  {
   "cell_type": "code",
   "execution_count": null,
   "metadata": {
    "scrolled": true
   },
   "outputs": [],
   "source": [
    "abs_aplus_obs = [eos.Observable.make(\"Lambda_b->Lambdacharmonium::abs_aplus\", analysis.parameters, eos.Kinematics(), eos.Options()) ]\n",
    "_, log_weights, abs_aplus_samples  = analysis.sample(N=5000, pre_N=1000, stride=10,preruns=50,observables=abs_aplus_obs)\n",
    "\n",
    "abs_aminus_obs = [eos.Observable.make(\"Lambda_b->Lambdacharmonium::abs_aminus\", analysis.parameters, eos.Kinematics(), eos.Options()) ]\n",
    "_, log_weights, abs_aminus_samples  = analysis.sample(N=5000, pre_N=1000, stride=10,preruns=50,observables=abs_aminus_obs)\n",
    "\n",
    "abs_bminus_obs = [eos.Observable.make(\"Lambda_b->Lambdacharmonium::abs_bminus\", analysis.parameters, eos.Kinematics(), eos.Options()) ]\n",
    "_, log_weights, abs_bminus_samples  = analysis.sample(N=5000, pre_N=1000, stride=10,preruns=50,observables=abs_bminus_obs)"
   ]
  },
  {
   "cell_type": "code",
   "execution_count": null,
   "metadata": {},
   "outputs": [],
   "source": [
    "plot_abs_aplus = {\n",
    "    'plot': {\n",
    "        'x': { 'label': r'$|a_{+}|$', 'range': [-0.0, 0.2] },\n",
    "        'legend': { 'location': 'upper left' }\n",
    "    },\n",
    "    'contents': [\n",
    "        {\n",
    "            'type': 'histogram',\n",
    "            'data': { 'samples': abs_aplus_samples[:, 0]}\n",
    "        },\n",
    "        {\n",
    "            'type': 'kde', 'color': 'C0', 'label': 'posterior', 'bandwidth': 2,\n",
    "            'range': [-1, 1],\n",
    "            'data': { 'samples': abs_aplus_samples[:, 0]}\n",
    "        },\n",
    "    ]\n",
    "}\n",
    "\n",
    "plot_abs_aminus = {\n",
    "    'plot': {\n",
    "        'x': { 'label': r'$|a_{-}|$', 'range': [0.6, 1] },\n",
    "        'legend': { 'location': 'upper left' }\n",
    "    },\n",
    "    'contents': [\n",
    "        {\n",
    "            'type': 'histogram',\n",
    "            'data': { 'samples': abs_aminus_samples[:, 0]}\n",
    "        },\n",
    "        {\n",
    "            'type': 'kde', 'color': 'C0', 'label': 'posterior', 'bandwidth': 2,\n",
    "            'range': [-1, 1],\n",
    "            'data': { 'samples': abs_aminus_samples[:, 0]}\n",
    "        },\n",
    "    ]\n",
    "}\n",
    "\n",
    "plot_abs_bminus = {\n",
    "    'plot': {\n",
    "        'x': { 'label': r'$|b_{-}|$', 'range': [0.0, 0.5] },\n",
    "        'legend': { 'location': 'upper left' }\n",
    "    },\n",
    "    'contents': [\n",
    "        {\n",
    "            'type': 'histogram',\n",
    "            'data': { 'samples': abs_bminus_samples[:, 0]}\n",
    "        },\n",
    "        {\n",
    "            'type': 'kde', 'color': 'C0', 'label': 'posterior', 'bandwidth': 2,\n",
    "            'range': [-1, 1],\n",
    "            'data': { 'samples': abs_bminus_samples[:, 0]}\n",
    "        },\n",
    "    ]\n",
    "}"
   ]
  },
  {
   "cell_type": "code",
   "execution_count": null,
   "metadata": {},
   "outputs": [],
   "source": [
    "plots = [plot_abs_aplus, plot_abs_aminus,  plot_abs_bminus]\n",
    "for p in plots:\n",
    "    eos.plot.Plotter(p).plot()\n"
   ]
  },
  {
   "cell_type": "code",
   "execution_count": null,
   "metadata": {},
   "outputs": [],
   "source": [
    "arg_aplus_obs = [eos.Observable.make(\"Lambda_b->Lambdacharmonium::arg_aplus\", analysis.parameters, eos.Kinematics(), eos.Options()) ]\n",
    "_, log_weights, arg_aplus_samples  = analysis.sample(N=5000, pre_N=1000, stride=10,preruns=50,observables=arg_aplus_obs)\n",
    "\n",
    "arg_aminus_obs = [eos.Observable.make(\"Lambda_b->Lambdacharmonium::arg_aminus\", analysis.parameters, eos.Kinematics(), eos.Options()) ]\n",
    "_, log_weights, arg_aminus_samples  = analysis.sample(N=5000, pre_N=1000, stride=10,preruns=50,observables=arg_aminus_obs)\n",
    "\n",
    "arg_bminus_obs = [eos.Observable.make(\"Lambda_b->Lambdacharmonium::arg_bminus\", analysis.parameters, eos.Kinematics(), eos.Options()) ]\n",
    "_, log_weights, arg_bminus_samples  = analysis.sample(N=5000, pre_N=1000, stride=10,preruns=50,observables=arg_bminus_obs)\n"
   ]
  },
  {
   "cell_type": "code",
   "execution_count": null,
   "metadata": {},
   "outputs": [],
   "source": [
    "plot_arg_aplus = {\n",
    "    'plot': {\n",
    "        'x': { 'label': r'arg$(a_{+})$ [rad]', 'range': [-4, 5] },\n",
    "        'legend': { 'location': 'upper left' }\n",
    "    },\n",
    "    'contents': [\n",
    "        {\n",
    "            'type': 'histogram',\n",
    "            'data': { 'samples': arg_aplus_samples[:, 0]}\n",
    "        },\n",
    "        {\n",
    "            'type': 'kde', 'color': 'C0', 'label': 'posterior', 'bandwidth': 2,\n",
    "            'range': [-1, 1],\n",
    "            'data': { 'samples': arg_aplus_samples[:, 0]}\n",
    "        },\n",
    "    ]\n",
    "}\n",
    "\n",
    "plot_arg_aminus = {\n",
    "    'plot': {\n",
    "        'x': { 'label': r'arg$(a_{-})$ [rad]', 'range': [-5, 5] },\n",
    "        'legend': { 'location': 'upper left' }\n",
    "    },\n",
    "    'contents': [\n",
    "        {\n",
    "            'type': 'histogram',\n",
    "            'data': { 'samples': arg_aminus_samples[:, 0]}\n",
    "        },\n",
    "        {\n",
    "            'type': 'kde', 'color': 'C0', 'label': 'posterior', 'bandwidth': 2,\n",
    "            'range': [-1, 1],\n",
    "            'data': { 'samples': arg_aminus_samples[:, 0]}\n",
    "        },\n",
    "    ]\n",
    "}\n",
    "\n",
    "plot_arg_bminus = {\n",
    "    'plot': {\n",
    "        'x': { 'label': r'arg$(b_{-})$ [rad]', 'range': [-2, 2] },\n",
    "        'legend': { 'location': 'upper left' }\n",
    "    },\n",
    "    'contents': [\n",
    "        {\n",
    "            'type': 'histogram',\n",
    "            'data': { 'samples': arg_bminus_samples[:, 0]}\n",
    "        },\n",
    "        {\n",
    "            'type': 'kde', 'color': 'C0', 'label': 'posterior', 'bandwidth': 2,\n",
    "            'range': [-1, 1],\n",
    "            'data': { 'samples': arg_bminus_samples[:, 0]}\n",
    "        },\n",
    "    ]\n",
    "}"
   ]
  },
  {
   "cell_type": "code",
   "execution_count": null,
   "metadata": {},
   "outputs": [],
   "source": [
    "plots = [plot_arg_aplus, plot_arg_aminus,  plot_arg_bminus]\n",
    "for p in plots:\n",
    "    eos.plot.Plotter(p).plot()"
   ]
  },
  {
   "cell_type": "code",
   "execution_count": null,
   "metadata": {},
   "outputs": [],
   "source": [
    "alphab_obs = [eos.Observable.make(\"Lambda_b->Lambdacharmonium::alpha_b\", analysis.parameters, eos.Kinematics(), eos.Options()) ]\n",
    "_, log_weights, alphab_samples  = analysis.sample(N=5000, pre_N=1000, stride=10,preruns=50,observables=alphab_obs)\n",
    "\n",
    "br_obs = [eos.Observable.make(\"Lambda_b->Lambdacharmonium::branching_ratio\", analysis.parameters, eos.Kinematics(), eos.Options()) ]\n",
    "_, log_weights, br_samples  = analysis.sample(N=5000, pre_N=1000, stride=10,preruns=50,observables=br_obs)"
   ]
  },
  {
   "cell_type": "code",
   "execution_count": null,
   "metadata": {},
   "outputs": [],
   "source": [
    "plot_alphab = {\n",
    "    'plot': {\n",
    "        'x': { 'label': r'$\\alpha_{b}$', 'range': [0.1, 0.3] },\n",
    "        'legend': { 'location': 'upper left' }\n",
    "    },\n",
    "    'contents': [\n",
    "        {\n",
    "            'type': 'histogram',\n",
    "            'data': { 'samples': alphab_samples[:, 0]}\n",
    "        },\n",
    "        {\n",
    "            'type': 'kde', 'color': 'C0', 'label': 'posterior', 'bandwidth': 2,\n",
    "            'range': [-1, 1],\n",
    "            'data': { 'samples': alphab_samples[:, 0]}\n",
    "        },\n",
    "    ]\n",
    "}\n",
    "\n",
    "plot_br= {\n",
    "    'plot': {\n",
    "        'x': { 'label': r'Br$(\\Lambda_{b} \\to \\Lambda \\psi)$', 'range': [2500, 10000] },\n",
    "        'legend': { 'location': 'upper left' }\n",
    "    },\n",
    "    'contents': [\n",
    "        {\n",
    "            'type': 'histogram',\n",
    "            'data': { 'samples': br_samples[:, 0]}\n",
    "        },\n",
    "        {\n",
    "            'type': 'kde', 'color': 'C0', 'label': 'posterior', 'bandwidth': 2,\n",
    "            'range': [-1, 1],\n",
    "            'data': { 'samples': br_samples[:, 0]}\n",
    "        },\n",
    "    ]\n",
    "}"
   ]
  },
  {
   "cell_type": "code",
   "execution_count": null,
   "metadata": {},
   "outputs": [],
   "source": [
    "plots = [plot_alphab, plot_br]\n",
    "for p in plots:\n",
    "    eos.plot.Plotter(p).plot()\n"
   ]
  },
  {
   "cell_type": "code",
   "execution_count": null,
   "metadata": {},
   "outputs": [],
   "source": []
  },
  {
   "cell_type": "code",
   "execution_count": null,
   "metadata": {},
   "outputs": [],
   "source": []
  },
  {
   "cell_type": "code",
   "execution_count": null,
   "metadata": {},
   "outputs": [],
   "source": []
  },
  {
   "cell_type": "code",
   "execution_count": null,
   "metadata": {},
   "outputs": [],
   "source": []
  },
  {
   "cell_type": "code",
   "execution_count": null,
   "metadata": {},
   "outputs": [],
   "source": []
  },
  {
   "cell_type": "code",
   "execution_count": null,
   "metadata": {},
   "outputs": [],
   "source": [
    "q2values  = np.unique(np.concatenate((np.linspace(-10, 0, 20), np.linspace(0, 10, 20))))\n",
    "re_H_V_perp_obs       = [eos.Observable.make(\n",
    "                   \"Lambda_b->Lambda::re_H_V_perp(q2)\", analysis.parameters, eos.Kinematics(q2=q2),\n",
    "                   eos.Options())\n",
    "               for q2 in q2values]\n",
    "ff_V_perp       = [eos.Observable.make(\"Lambda_b->Lambda::f_perp^V(q2)\", analysis.parameters, eos.Kinematics(q2=q2), \n",
    "                    eos.Options(**{'form-factors': 'DM2016'}))\n",
    "               for q2 in q2values]\n",
    "##=======================================================##\n",
    "re_H_V_long_obs       = [eos.Observable.make(\n",
    "                   \"Lambda_b->Lambda::re_H_V_long(q2)\", analysis.parameters, eos.Kinematics(q2=q2),\n",
    "                   eos.Options())\n",
    "               for q2 in q2values]\n",
    "\n",
    "re_H_A_perp_obs       = [eos.Observable.make(\n",
    "                   \"Lambda_b->Lambda::re_H_A_perp(q2)\", analysis.parameters, eos.Kinematics(q2=q2),\n",
    "                   eos.Options())\n",
    "               for q2 in q2values]\n",
    "re_H_A_long_obs       = [eos.Observable.make(\n",
    "                   \"Lambda_b->Lambda::re_H_A_long(q2)\", analysis.parameters, eos.Kinematics(q2=q2),\n",
    "                   eos.Options())\n",
    "               for q2 in q2values]\n",
    "\n",
    "_, log_weights, re_H_V_perp_samples  = analysis.sample(N=5000, pre_N=1000, stride=10,preruns=50,observables=re_H_V_perp_obs)\n",
    "#_, log_weights, ff_V_perp_samples  = analysis.sample(N=5000, pre_N=1000, stride=10,preruns=50,observables=ff_V_perp)\n",
    "##=======================================================##\n",
    "\n",
    "_, log_weights, re_H_V_long_samples  = analysis.sample(N=5000, pre_N=1000, stride=10,preruns=50,observables=re_H_V_long_obs)\n",
    "\n",
    "_, log_weights, re_H_A_perp_samples  = analysis.sample(N=5000, pre_N=1000, stride=10,preruns=50,observables=re_H_A_perp_obs)\n",
    "_, log_weights, re_H_A_long_samples  = analysis.sample(N=5000, pre_N=1000, stride=10,preruns=50,observables=re_H_A_long_obs)\n",
    "\n"
   ]
  },
  {
   "cell_type": "code",
   "execution_count": null,
   "metadata": {},
   "outputs": [],
   "source": [
    "plot_args = {\n",
    "    'plot': {\n",
    "        'x': { 'label': r'$q^2$', 'unit': r'$\\textnormal{GeV}^2$', 'range': [-7,4] },\n",
    "        'y': { 'label': r'Re $\\mathcal{H}_{\\Gamma,\\lambda}(q^2)$', 'range':[-0.02,0.02]   },\n",
    "        'legend': { 'location': 'lower left' }\n",
    "    },\n",
    "    'contents': [\n",
    "        {\n",
    "          'label': r'Re $\\mathcal{H}_{V,\\perp}(q^2)$', 'type': 'uncertainty', 'range': [-7, 11.60],\n",
    "          'data': { 'samples': re_H_V_perp_samples, 'xvalues': q2values }\n",
    "        },\n",
    "        {\n",
    "          'label': r'Re $\\mathcal{H}_{V, 0}(q^2)$', 'type': 'uncertainty', 'range': [-7, 11.60],\n",
    "          'data': { 'samples': re_H_V_long_samples, 'xvalues': q2values }\n",
    "        },\n",
    "        {\n",
    "          'label': r'Re $\\mathcal{H}_{A,\\perp}(q^2)$', 'type': 'uncertainty', 'range': [0.001, 11.60],\n",
    "          'data': { 'samples': re_H_A_perp_samples, 'xvalues': q2values }\n",
    "        },\n",
    "        {\n",
    "          'label': r'Re $\\mathcal{H}_{A, 0}(q^2)$', 'type': 'uncertainty', 'range': [0.001, 11.60],\n",
    "          'data': { 'samples': re_H_A_long_samples, 'xvalues': q2values }\n",
    "        },\n",
    "    ]\n",
    "}\n",
    "eos.plot.Plotter(plot_args,\"Re_NonLocal.jpg\").plot()"
   ]
  },
  {
   "cell_type": "code",
   "execution_count": null,
   "metadata": {},
   "outputs": [],
   "source": []
  },
  {
   "cell_type": "code",
   "execution_count": null,
   "metadata": {},
   "outputs": [],
   "source": []
  },
  {
   "cell_type": "code",
   "execution_count": null,
   "metadata": {},
   "outputs": [],
   "source": [
    "q2values  = np.unique(np.concatenate((np.linspace(-10, 0, 20), np.linspace(0, 10, 20))))\n",
    "im_H_V_perp_obs       = [eos.Observable.make(\n",
    "                   \"Lambda_b->Lambda::im_H_V_perp(q2)\", analysis.parameters, eos.Kinematics(q2=q2),\n",
    "                   eos.Options())\n",
    "               for q2 in q2values]\n",
    "im_H_V_long_obs       = [eos.Observable.make(\n",
    "                   \"Lambda_b->Lambda::im_H_V_long(q2)\", analysis.parameters, eos.Kinematics(q2=q2),\n",
    "                   eos.Options())\n",
    "               for q2 in q2values]\n",
    "\n",
    "im_H_A_perp_obs       = [eos.Observable.make(\n",
    "                   \"Lambda_b->Lambda::im_H_A_perp(q2)\", analysis.parameters, eos.Kinematics(q2=q2),\n",
    "                   eos.Options())\n",
    "               for q2 in q2values]\n",
    "im_H_A_long_obs       = [eos.Observable.make(\n",
    "                   \"Lambda_b->Lambda::im_H_A_long(q2)\", analysis.parameters, eos.Kinematics(q2=q2),\n",
    "                   eos.Options())\n",
    "               for q2 in q2values]\n",
    "\n",
    "_, log_weights, im_H_V_perp_samples  = analysis.sample(N=5000, pre_N=1000, stride=10,preruns=50,observables=im_H_V_perp_obs)\n",
    "_, log_weights, im_H_V_long_samples  = analysis.sample(N=5000, pre_N=1000, stride=10,preruns=50, observables=im_H_V_long_obs)\n",
    "\n",
    "_, log_weights, im_H_A_perp_samples  = analysis.sample(N=5000, pre_N=1000, stride=10,preruns=50,observables=im_H_A_perp_obs)\n",
    "_, log_weights, im_H_A_long_samples  = analysis.sample(N=5000, pre_N=1000, stride=10,preruns=50,observables=im_H_A_long_obs)\n",
    "\n"
   ]
  },
  {
   "cell_type": "code",
   "execution_count": null,
   "metadata": {},
   "outputs": [],
   "source": [
    "plot_args = {\n",
    "    'plot': {\n",
    "        'x': { 'label': r'$q^2$', 'unit': r'$\\textnormal{GeV}^2$', 'range': [-7,4] },\n",
    "        'y': { 'label': r'Im $\\mathcal{H}_{\\Gamma,\\lambda}(q^2)$', 'range':[-0.03,0.02]   },\n",
    "        'legend': { 'location': 'lower left' }\n",
    "    },\n",
    "    'contents': [\n",
    "        {\n",
    "          'label': r'Im $\\mathcal{H}_{V,\\perp}(q^2)$', 'type': 'uncertainty', 'range': [-7, 11.60],\n",
    "          'data': { 'samples': im_H_V_perp_samples, 'xvalues': q2values }\n",
    "        },\n",
    "        {\n",
    "          'label': r'Im $\\mathcal{H}_{V, 0}(q^2)$', 'type': 'uncertainty', 'range': [-7, 11.60],\n",
    "          'data': { 'samples': im_H_V_long_samples, 'xvalues': q2values }\n",
    "        },\n",
    "        {\n",
    "          'label': r'Im $\\mathcal{H}_{A,\\perp}(q^2)$', 'type': 'uncertainty', 'range': [0.001, 11.60],\n",
    "          'data': { 'samples': im_H_A_perp_samples, 'xvalues': q2values }\n",
    "        },\n",
    "        {\n",
    "          'label': r'Im $\\mathcal{H}_{A, 0}(q^2)$', 'type': 'uncertainty', 'range': [0.001, 11.60],\n",
    "          'data': { 'samples': im_H_A_long_samples, 'xvalues': q2values }\n",
    "        },\n",
    "    ]\n",
    "}\n",
    "eos.plot.Plotter(plot_args,\"Im_NonLocal.jpg\").plot()"
   ]
  },
  {
   "cell_type": "code",
   "execution_count": null,
   "metadata": {},
   "outputs": [],
   "source": []
  },
  {
   "cell_type": "code",
   "execution_count": null,
   "metadata": {},
   "outputs": [],
   "source": []
  },
  {
   "cell_type": "code",
   "execution_count": null,
   "metadata": {},
   "outputs": [],
   "source": []
  },
  {
   "cell_type": "code",
   "execution_count": null,
   "metadata": {},
   "outputs": [],
   "source": []
  },
  {
   "cell_type": "code",
   "execution_count": null,
   "metadata": {},
   "outputs": [],
   "source": []
  },
  {
   "cell_type": "code",
   "execution_count": null,
   "metadata": {},
   "outputs": [],
   "source": []
  },
  {
   "cell_type": "code",
   "execution_count": null,
   "metadata": {},
   "outputs": [],
   "source": []
  },
  {
   "cell_type": "code",
   "execution_count": null,
   "metadata": {},
   "outputs": [],
   "source": [
    "ff_list = [\"f_long^T(q2)\",\"f_perp^T(q2)\",\"f_long^T5(q2)\",\"f_perp^T5(q2)\"]\n",
    "m_psi = 3.0969\n",
    "m_Lam = 1.115683\n",
    "m_LamB = 5.61960\n",
    "\n",
    "for q2_val in np.arange(-7,0,1):\n",
    "    kin = eos.Kinematics(q2= float(q2_val))\n",
    "    for ff in ff_list:        \n",
    "        obs=eos.Observable.make(\"Lambda_b->Lambda::\"+ff, analysis.parameters, kin, eos.Options(**{'form-factors': 'DM2016'}))\n",
    "        obs = obs.evaluate()\n",
    "        \n",
    "        if ff == \"f_long^T(q2)\":\n",
    "            obs = q2_val/((m_LamB+m_Lam)*m_LamB) * obs\n",
    "            msg = \"FF: {}, q2: {}, val: {}\".format(ff, q2_val, obs)\n",
    "            print(msg)\n",
    "        elif ff == \"f_perp^T(q2)\":\n",
    "            obs = (m_LamB+m_Lam)/m_LamB * obs\n",
    "            msg = \"FF: {}, q2: {}, val: {}\".format(ff, q2_val, obs)\n",
    "            print(msg)\n",
    "        elif ff == \"f_long^T5(q2)\":\n",
    "            obs = q2_val/((m_LamB-m_Lam)*m_LamB) * obs\n",
    "            msg = \"FF: {}, q2: {}, val: {}\".format(ff, q2_val, obs)\n",
    "            print(msg)\n",
    "        elif ff == \"f_perp^T5(q2)\":\n",
    "            obs = (m_LamB-m_Lam)/m_LamB * obs\n",
    "            msg = \"FF: {}, q2: {}, val: {}\".format(ff, q2_val, obs)\n",
    "            print(msg)\n",
    "    print(\"=========================================================\")"
   ]
  },
  {
   "cell_type": "code",
   "execution_count": null,
   "metadata": {},
   "outputs": [],
   "source": [
    "kin=eos.Kinematics(q2=-1)\n",
    "eos.Observable.make(\"Lambda_b->Lambda::f_long^A(q2)\", analysis.parameters, kin, eos.Options(**{'form-factors': 'DM2016'}))\n"
   ]
  },
  {
   "cell_type": "code",
   "execution_count": null,
   "metadata": {},
   "outputs": [],
   "source": []
  }
 ],
 "metadata": {
  "kernelspec": {
   "display_name": "Python 3",
   "language": "python",
   "name": "python3"
  },
  "language_info": {
   "codemirror_mode": {
    "name": "ipython",
    "version": 3
   },
   "file_extension": ".py",
   "mimetype": "text/x-python",
   "name": "python",
   "nbconvert_exporter": "python",
   "pygments_lexer": "ipython3",
   "version": "3.6.9"
  }
 },
 "nbformat": 4,
 "nbformat_minor": 4
}
