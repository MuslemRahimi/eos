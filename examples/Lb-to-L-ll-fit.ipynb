{
 "cells": [
  {
   "cell_type": "code",
   "execution_count": 1,
   "metadata": {},
   "outputs": [],
   "source": [
    "import eos\n",
    "import numpy as np\n",
    "import matplotlib.pyplot as plt\n",
    "import random\n",
    "\n",
    "random.seed(114)"
   ]
  },
  {
   "cell_type": "code",
   "execution_count": 2,
   "metadata": {},
   "outputs": [],
   "source": [
    "#eos.Observables(prefix='L', name='K')"
   ]
  },
  {
   "cell_type": "code",
   "execution_count": 3,
   "metadata": {},
   "outputs": [],
   "source": [
    "#eos.Observables(prefix='L', name='a')"
   ]
  },
  {
   "cell_type": "code",
   "execution_count": 4,
   "metadata": {},
   "outputs": [],
   "source": [
    "analysis_args = {\n",
    "    'global_options': { 'form-factors': 'BRvD2021', 'model': 'SM', 'psi' : 'J/psi' },\n",
    "    'priors': [\n",
    "        { 'parameter': 'Lambda_b->Lambdaccbar::Re{alpha_0^V_long}@BRvD2021', 'min': -1.0, 'max':  1.0 , 'type': 'uniform'},\n",
    "        { 'parameter': 'Lambda_b->Lambdaccbar::Im{alpha_0^V_long}@BRvD2021', 'min': -1.0, 'max':  1.0 , 'type': 'uniform'},\n",
    "        { 'parameter': 'Lambda_b->Lambdaccbar::Re{alpha_0^V_perp}@BRvD2021', 'min': -1.0, 'max':  1.0 , 'type': 'uniform'},\n",
    "        { 'parameter': 'Lambda_b->Lambdaccbar::Im{alpha_0^V_perp}@BRvD2021', 'min': -1.0, 'max':  1.0 , 'type': 'uniform'},\n",
    "        { 'parameter': 'Lambda_b->Lambdaccbar::Re{alpha_0^A_long}@BRvD2021', 'min': -1.0, 'max':  1.0 , 'type': 'uniform'},\n",
    "        { 'parameter': 'Lambda_b->Lambdaccbar::Im{alpha_0^A_long}@BRvD2021', 'min': -1.0, 'max':  1.0 , 'type': 'uniform'},\n",
    "        { 'parameter': 'Lambda_b->Lambdaccbar::Re{alpha_0^A_perp}@BRvD2021', 'min': -1.0, 'max':  1.0 , 'type': 'uniform'},\n",
    "        { 'parameter': 'Lambda_b->Lambdaccbar::Im{alpha_0^A_perp}@BRvD2021', 'min': -1.0, 'max':  1.0 , 'type': 'uniform'},\n",
    "        { 'parameter': 'Lambda_b->Lambdaccbar::Re{alpha_1^V_long}@BRvD2021', 'min': -1.0, 'max':  1.0 , 'type': 'uniform'},\n",
    "        { 'parameter': 'Lambda_b->Lambdaccbar::Im{alpha_1^V_long}@BRvD2021', 'min': -1.0, 'max':  1.0 , 'type': 'uniform'},\n",
    "        { 'parameter': 'Lambda_b->Lambdaccbar::Re{alpha_1^V_perp}@BRvD2021', 'min': -1.0, 'max':  1.0 , 'type': 'uniform'},\n",
    "        { 'parameter': 'Lambda_b->Lambdaccbar::Im{alpha_1^V_perp}@BRvD2021', 'min': -1.0, 'max':  1.0 , 'type': 'uniform'},\n",
    "        { 'parameter': 'Lambda_b->Lambdaccbar::Re{alpha_1^A_long}@BRvD2021', 'min': -1.0, 'max':  1.0 , 'type': 'uniform'},\n",
    "        { 'parameter': 'Lambda_b->Lambdaccbar::Im{alpha_1^A_long}@BRvD2021', 'min': -1.0, 'max':  1.0 , 'type': 'uniform'},\n",
    "        { 'parameter': 'Lambda_b->Lambdaccbar::Re{alpha_1^A_perp}@BRvD2021', 'min': -1.0, 'max':  1.0 , 'type': 'uniform'},\n",
    "        { 'parameter': 'Lambda_b->Lambdaccbar::Im{alpha_1^A_perp}@BRvD2021', 'min': -1.0, 'max':  1.0 , 'type': 'uniform'},\n",
    "        { 'parameter': 'Lambda_b->Lambdaccbar::Re{alpha_2^V_long}@BRvD2021', 'min': -1.0, 'max':  1.0 , 'type': 'uniform'},\n",
    "        { 'parameter': 'Lambda_b->Lambdaccbar::Im{alpha_2^V_long}@BRvD2021', 'min': -1.0, 'max':  1.0 , 'type': 'uniform'},\n",
    "        { 'parameter': 'Lambda_b->Lambdaccbar::Re{alpha_2^V_perp}@BRvD2021', 'min': -1.0, 'max':  1.0 , 'type': 'uniform'},\n",
    "        { 'parameter': 'Lambda_b->Lambdaccbar::Im{alpha_2^V_perp}@BRvD2021', 'min': -1.0, 'max':  1.0 , 'type': 'uniform'},\n",
    "        { 'parameter': 'Lambda_b->Lambdaccbar::Re{alpha_2^A_long}@BRvD2021', 'min': -1.0, 'max':  1.0 , 'type': 'uniform'},\n",
    "        { 'parameter': 'Lambda_b->Lambdaccbar::Im{alpha_2^A_long}@BRvD2021', 'min': -1.0, 'max':  1.0 , 'type': 'uniform'},\n",
    "        { 'parameter': 'Lambda_b->Lambdaccbar::Re{alpha_2^A_perp}@BRvD2021', 'min': -1.0, 'max':  1.0 , 'type': 'uniform'},\n",
    "        { 'parameter': 'Lambda_b->Lambdaccbar::Im{alpha_2^A_perp}@BRvD2021', 'min': -1.0, 'max':  1.0 , 'type': 'uniform'},\n",
    "    ],\n",
    "    'likelihood': [\n",
    "        'Lambda_b->LambdaJpsi::K1ss@LHCb-2020',  \n",
    "        'Lambda_b->LambdaJpsi::K1cc@LHCb-2020',\n",
    "        'Lambda_b->LambdaJpsi::K2ss@LHCb-2020',\n",
    "        'Lambda_b->LambdaJpsi::K2cc@LHCb-2020',\n",
    "        'Lambda_b->LambdaJpsi::K3sc@LHCb-2020',  \n",
    "        'Lambda_b->LambdaJpsi::K4sc@LHCb-2020',\n",
    "        'Lambda_b->LambdaJpsi::K1ss@LHCb-2020',  \n",
    "        'Lambda_b->LambdaJpsi::K1cc@LHCb-2020',\n",
    "        'Lambda_b->LambdaJpsi::K2ss@LHCb-2020',\n",
    "        'Lambda_b->LambdaJpsi::K2cc@LHCb-2020',\n",
    "        'Lambda_b->LambdaJpsi::K3sc@LHCb-2020',  \n",
    "        'Lambda_b->LambdaJpsi::K4sc@LHCb-2020',\n",
    "        'Lambda_b->LambdaJpsi::branching_ratio@HFLAV-2016',\n",
    "        'Lambda_b->LambdaJpsi::abs_bplus@LHCb-2020',\n",
    "        'Lambda_b->LambdaJpsi::arg_bplus@LHCb-2020',\n",
    "        'Lambda_b->Lambda::re_H_V_perp7@BRvD2021',\n",
    "        'Lambda_b->Lambda::im_H_V_perp7@BRvD2021',\n",
    "        'Lambda_b->Lambda::re_H_V_perp5@BRvD2021',\n",
    "        'Lambda_b->Lambda::im_H_V_perp5@BRvD2021',\n",
    "        'Lambda_b->Lambda::re_H_V_perp3@BRvD2021',\n",
    "        'Lambda_b->Lambda::im_H_V_perp3@BRvD2021',\n",
    "        'Lambda_b->Lambda::re_H_V_perp1@BRvD2021',\n",
    "        'Lambda_b->Lambda::im_H_V_perp1@BRvD2021',\n",
    "        'Lambda_b->Lambda::re_H_V_long7@BRvD2021',\n",
    "        'Lambda_b->Lambda::im_H_V_long7@BRvD2021',\n",
    "        'Lambda_b->Lambda::re_H_V_long5@BRvD2021',\n",
    "        'Lambda_b->Lambda::im_H_V_long5@BRvD2021',\n",
    "        'Lambda_b->Lambda::re_H_V_long3@BRvD2021',\n",
    "        'Lambda_b->Lambda::im_H_V_long3@BRvD2021',\n",
    "        'Lambda_b->Lambda::re_H_V_long1@BRvD2021',\n",
    "        'Lambda_b->Lambda::im_H_V_long1@BRvD2021',\n",
    "        'Lambda_b->Lambda::re_H_A_perp7@BRvD2021',\n",
    "        'Lambda_b->Lambda::im_H_A_perp7@BRvD2021',\n",
    "        'Lambda_b->Lambda::re_H_A_perp5@BRvD2021',\n",
    "        'Lambda_b->Lambda::im_H_A_perp5@BRvD2021',\n",
    "        'Lambda_b->Lambda::re_H_A_perp3@BRvD2021',\n",
    "        'Lambda_b->Lambda::im_H_A_perp3@BRvD2021',\n",
    "        'Lambda_b->Lambda::re_H_A_perp1@BRvD2021',\n",
    "        'Lambda_b->Lambda::im_H_A_perp1@BRvD2021',\n",
    "        'Lambda_b->Lambda::re_H_A_long7@BRvD2021',\n",
    "        'Lambda_b->Lambda::im_H_A_long7@BRvD2021',\n",
    "        'Lambda_b->Lambda::re_H_A_long5@BRvD2021',\n",
    "        'Lambda_b->Lambda::im_H_A_long5@BRvD2021',\n",
    "        'Lambda_b->Lambda::re_H_A_long3@BRvD2021',\n",
    "        'Lambda_b->Lambda::im_H_A_long3@BRvD2021',\n",
    "        'Lambda_b->Lambda::re_H_A_long1@BRvD2021',\n",
    "        'Lambda_b->Lambda::im_H_A_long1@BRvD2021',\n",
    "       \n",
    "        \n",
    "    ]       \n",
    "}\n",
    "analysis = eos.Analysis(**analysis_args)\n",
    "\n",
    "analysis.parameters[\"mass::J/psi\"].set(3.0969)\n",
    "analysis.parameters[\"mass::psi(2S)\"].set(3.6860)\n",
    "analysis.parameters[\"mass::Lambda\"].set(1.115683)\n",
    "analysis.parameters[\"mass::Lambda_b\"].set(5.61960)\n",
    "analysis.parameters[\"mass::D^0\"].set(1.86483)\n",
    "analysis.parameters[\"b->sccbar::t_0\"].set(9.0)\n",
    "analysis.parameters[\"b->sccbar::t_s\"].set(-17.4724)\n",
    "analysis.parameters[\"b->sccbar::chiOPE@GvDV2020\"].set(1.81e-4)\n",
    "\n",
    "\n",
    "analysis.parameters['Lambda_b->Lambdaccbar::Re{alpha_0^V_long}@BRvD2021'].set(random.uniform(1.1e-8,1.1e-7))\n",
    "analysis.parameters['Lambda_b->Lambdaccbar::Im{alpha_0^V_long}@BRvD2021'].set(random.uniform(-1.1e-8,1.1e-8))\n",
    "analysis.parameters['Lambda_b->Lambdaccbar::Re{alpha_1^V_long}@BRvD2021'].set(random.uniform(-1.1e-8,1.1e-8))\n",
    "analysis.parameters['Lambda_b->Lambdaccbar::Im{alpha_1^V_long}@BRvD2021'].set(random.uniform(-1.1e-2,1.1e-4))\n",
    "analysis.parameters['Lambda_b->Lambdaccbar::Re{alpha_2^V_long}@BRvD2021'].set(random.uniform(-1.1e-8,1.1e-8))\n",
    "analysis.parameters['Lambda_b->Lambdaccbar::Im{alpha_2^V_long}@BRvD2021'].set(random.uniform(-1.1e-2,1.1e-4))\n",
    "\n",
    "analysis.parameters['Lambda_b->Lambdaccbar::Re{alpha_0^V_perp}@BRvD2021'].set(random.uniform(-1.1e-8,1.1e-8))\n",
    "analysis.parameters['Lambda_b->Lambdaccbar::Im{alpha_0^V_perp}@BRvD2021'].set(random.uniform(-1.1e-8,1.1e-8))\n",
    "analysis.parameters['Lambda_b->Lambdaccbar::Re{alpha_1^V_perp}@BRvD2021'].set(random.uniform(-1.1e-8,1.1e-8))\n",
    "analysis.parameters['Lambda_b->Lambdaccbar::Im{alpha_1^V_perp}@BRvD2021'].set(random.uniform(-1.1e-8,1.1e-8))\n",
    "analysis.parameters['Lambda_b->Lambdaccbar::Re{alpha_2^V_perp}@BRvD2021'].set(random.uniform(-1.1e-8,1.1e-8))\n",
    "analysis.parameters['Lambda_b->Lambdaccbar::Im{alpha_2^V_perp}@BRvD2021'].set(random.uniform(-1.1e-8,1.1e-8))\n",
    "\n",
    "analysis.parameters['Lambda_b->Lambdaccbar::Re{alpha_0^A_long}@BRvD2021'].set(random.uniform(-1.1e-8,1.1e-8))\n",
    "analysis.parameters['Lambda_b->Lambdaccbar::Im{alpha_0^A_long}@BRvD2021'].set(random.uniform(-1.1e-8,1.1e-8))\n",
    "analysis.parameters['Lambda_b->Lambdaccbar::Re{alpha_1^A_long}@BRvD2021'].set(random.uniform(-1.1e-8,1.1e-8))\n",
    "analysis.parameters['Lambda_b->Lambdaccbar::Im{alpha_1^A_long}@BRvD2021'].set(random.uniform(-1.1e-8,1.1e-8))\n",
    "analysis.parameters['Lambda_b->Lambdaccbar::Re{alpha_2^A_long}@BRvD2021'].set(random.uniform(-1.1e-8,1.1e-8))\n",
    "analysis.parameters['Lambda_b->Lambdaccbar::Im{alpha_2^A_long}@BRvD2021'].set(random.uniform(-1.1e-8,1.1e-8))\n",
    "\n",
    "analysis.parameters['Lambda_b->Lambdaccbar::Re{alpha_0^A_perp}@BRvD2021'].set(random.uniform(-1.1e-8,1.1e-8))\n",
    "analysis.parameters['Lambda_b->Lambdaccbar::Im{alpha_0^A_perp}@BRvD2021'].set(random.uniform(-1.1e-8,1.1e-8))\n",
    "analysis.parameters['Lambda_b->Lambdaccbar::Re{alpha_1^A_perp}@BRvD2021'].set(random.uniform(-1.1e-8,1.1e-8))\n",
    "analysis.parameters['Lambda_b->Lambdaccbar::Im{alpha_1^A_perp}@BRvD2021'].set(random.uniform(-1.1e-8,1.1e-8))\n",
    "analysis.parameters['Lambda_b->Lambdaccbar::Re{alpha_2^A_perp}@BRvD2021'].set(random.uniform(-1.1e-8,1.1e-8))\n",
    "analysis.parameters['Lambda_b->Lambdaccbar::Im{alpha_2^A_perp}@BRvD2021'].set(random.uniform(-1.1e-8,1.1e-8))"
   ]
  },
  {
   "cell_type": "code",
   "execution_count": 5,
   "metadata": {},
   "outputs": [
    {
     "name": "stdout",
     "output_type": "stream",
     "text": [
      "WARNING: Markov chain self adaptation failed; trying diagonalization ... success\n",
      "WARNING: Markov chain self adaptation failed; trying diagonalization ... success\n",
      "WARNING: Markov chain self adaptation failed; trying diagonalization ... success\n"
     ]
    },
    {
     "name": "stderr",
     "output_type": "stream",
     "text": [
      "100%|██████████| 100/100 [00:04<00:00, 21.03it/s]\n"
     ]
    }
   ],
   "source": [
    "#help(analysis.sample)\n",
    "for i in range(1):\n",
    "    rng= np.random.mtrand.RandomState(12345+i)\n",
    "    samples, weights = analysis.sample(N=1000,stride=10,pre_N=500,preruns=100,rng = rng) "
   ]
  },
  {
   "cell_type": "code",
   "execution_count": 6,
   "metadata": {},
   "outputs": [
    {
     "data": {
      "text/plain": [
       "(array([0.02001887, 0.05199819, 0.0359889 , 0.10904357, 0.24905317,\n",
       "        0.21795732, 0.11397904, 0.12397935, 0.06099307, 0.01698853]),\n",
       " array([0.16126385, 0.16233096, 0.16339807, 0.16446517, 0.16553228,\n",
       "        0.16659938, 0.16766649, 0.16873359, 0.1698007 , 0.17086781,\n",
       "        0.17193491]),\n",
       " <BarContainer object of 10 artists>)"
      ]
     },
     "execution_count": 6,
     "metadata": {},
     "output_type": "execute_result"
    },
    {
     "data": {
      "image/png": "[encoded data removed]",
      "text/plain": [
       "<Figure size 432x288 with 1 Axes>"
      ]
     },
     "metadata": {
      "needs_background": "light"
     },
     "output_type": "display_data"
    }
   ],
   "source": [
    "#norm_weights = np.exp(weights) \n",
    "norm_weights = weights/sum(weights)\n",
    "plt.hist(samples[:,0],weights=norm_weights)"
   ]
  },
  {
   "cell_type": "code",
   "execution_count": 7,
   "metadata": {},
   "outputs": [
    {
     "data": {
      "text/plain": [
       "0.16673473110660847"
      ]
     },
     "execution_count": 7,
     "metadata": {},
     "output_type": "execute_result"
    }
   ],
   "source": [
    "np.median(samples[:,0])"
   ]
  },
  {
   "cell_type": "code",
   "execution_count": 8,
   "metadata": {},
   "outputs": [
    {
     "data": {
      "text/html": [
       "<table>\n",
       "<tr><th>parameter</th><th>value</th></tr>\n",
       "<tr><td>Lambda_b->Lambdaccbar::Re{alpha_0^V_long}@BRvD2021</td><td>0.1686</td></tr><tr><td>Lambda_b->Lambdaccbar::Im{alpha_0^V_long}@BRvD2021</td><td>0.9964</td></tr><tr><td>Lambda_b->Lambdaccbar::Re{alpha_0^V_perp}@BRvD2021</td><td>0.5191</td></tr><tr><td>Lambda_b->Lambdaccbar::Im{alpha_0^V_perp}@BRvD2021</td><td>0.3621</td></tr><tr><td>Lambda_b->Lambdaccbar::Re{alpha_0^A_long}@BRvD2021</td><td>-0.3827</td></tr><tr><td>Lambda_b->Lambdaccbar::Im{alpha_0^A_long}@BRvD2021</td><td>0.2177</td></tr><tr><td>Lambda_b->Lambdaccbar::Re{alpha_0^A_perp}@BRvD2021</td><td>-0.1537</td></tr><tr><td>Lambda_b->Lambdaccbar::Im{alpha_0^A_perp}@BRvD2021</td><td>-0.2661</td></tr><tr><td>Lambda_b->Lambdaccbar::Re{alpha_1^V_long}@BRvD2021</td><td>-0.7301</td></tr><tr><td>Lambda_b->Lambdaccbar::Im{alpha_1^V_long}@BRvD2021</td><td>0.5333</td></tr><tr><td>Lambda_b->Lambdaccbar::Re{alpha_1^V_perp}@BRvD2021</td><td>-0.5241</td></tr><tr><td>Lambda_b->Lambdaccbar::Im{alpha_1^V_perp}@BRvD2021</td><td>-0.0515</td></tr><tr><td>Lambda_b->Lambdaccbar::Re{alpha_1^A_long}@BRvD2021</td><td>0.9186</td></tr><tr><td>Lambda_b->Lambdaccbar::Im{alpha_1^A_long}@BRvD2021</td><td>0.0773</td></tr><tr><td>Lambda_b->Lambdaccbar::Re{alpha_1^A_perp}@BRvD2021</td><td>0.8052</td></tr><tr><td>Lambda_b->Lambdaccbar::Im{alpha_1^A_perp}@BRvD2021</td><td>-0.0767</td></tr><tr><td>Lambda_b->Lambdaccbar::Re{alpha_2^V_long}@BRvD2021</td><td>-0.2936</td></tr><tr><td>Lambda_b->Lambdaccbar::Im{alpha_2^V_long}@BRvD2021</td><td>0.0329</td></tr><tr><td>Lambda_b->Lambdaccbar::Re{alpha_2^V_perp}@BRvD2021</td><td>-0.2753</td></tr><tr><td>Lambda_b->Lambdaccbar::Im{alpha_2^V_perp}@BRvD2021</td><td>-0.0774</td></tr><tr><td>Lambda_b->Lambdaccbar::Re{alpha_2^A_long}@BRvD2021</td><td>0.3958</td></tr><tr><td>Lambda_b->Lambdaccbar::Im{alpha_2^A_long}@BRvD2021</td><td>-0.0070</td></tr><tr><td>Lambda_b->Lambdaccbar::Re{alpha_2^A_perp}@BRvD2021</td><td>0.3176</td></tr><tr><td>Lambda_b->Lambdaccbar::Im{alpha_2^A_perp}@BRvD2021</td><td>0.0152</td></tr></table>"
      ],
      "text/plain": [
       "<eos.analysis.BestFitPoint at 0x7f7af8189748>"
      ]
     },
     "metadata": {},
     "output_type": "display_data"
    },
    {
     "data": {
      "text/html": [
       "<table>\n",
       "<tr><th>constraint</th><th>&chi;<sup>2</sup></th><th>d.o.f.</th></tr>\n",
       "<tr><td><tt>Lambda_b->Lambda::im_H_A_long1@BRvD2021</tt></td><td>2.8185</td><td>1</td></tr>\n",
       "<tr><td><tt>Lambda_b->Lambda::im_H_A_long3@BRvD2021</tt></td><td>17.5282</td><td>1</td></tr>\n",
       "<tr><td><tt>Lambda_b->Lambda::im_H_A_long5@BRvD2021</tt></td><td>34.2187</td><td>1</td></tr>\n",
       "<tr><td><tt>Lambda_b->Lambda::im_H_A_long7@BRvD2021</tt></td><td>47.4047</td><td>1</td></tr>\n",
       "<tr><td><tt>Lambda_b->Lambda::im_H_A_perp1@BRvD2021</tt></td><td>1026.7913</td><td>1</td></tr>\n",
       "<tr><td><tt>Lambda_b->Lambda::im_H_A_perp3@BRvD2021</tt></td><td>707.8606</td><td>1</td></tr>\n",
       "<tr><td><tt>Lambda_b->Lambda::im_H_A_perp5@BRvD2021</tt></td><td>491.9044</td><td>1</td></tr>\n",
       "<tr><td><tt>Lambda_b->Lambda::im_H_A_perp7@BRvD2021</tt></td><td>344.3993</td><td>1</td></tr>\n",
       "<tr><td><tt>Lambda_b->Lambda::im_H_V_long1@BRvD2021</tt></td><td>2.6496</td><td>1</td></tr>\n",
       "<tr><td><tt>Lambda_b->Lambda::im_H_V_long3@BRvD2021</tt></td><td>0.1597</td><td>1</td></tr>\n",
       "<tr><td><tt>Lambda_b->Lambda::im_H_V_long5@BRvD2021</tt></td><td>0.3045</td><td>1</td></tr>\n",
       "<tr><td><tt>Lambda_b->Lambda::im_H_V_long7@BRvD2021</tt></td><td>0.4151</td><td>1</td></tr>\n",
       "<tr><td><tt>Lambda_b->Lambda::im_H_V_perp1@BRvD2021</tt></td><td>25.9906</td><td>1</td></tr>\n",
       "<tr><td><tt>Lambda_b->Lambda::im_H_V_perp3@BRvD2021</tt></td><td>17.6236</td><td>1</td></tr>\n",
       "<tr><td><tt>Lambda_b->Lambda::im_H_V_perp5@BRvD2021</tt></td><td>12.0329</td><td>1</td></tr>\n",
       "<tr><td><tt>Lambda_b->Lambda::im_H_V_perp7@BRvD2021</tt></td><td>8.2350</td><td>1</td></tr>\n",
       "<tr><td><tt>Lambda_b->Lambda::re_H_A_long1@BRvD2021</tt></td><td>3.2781</td><td>1</td></tr>\n",
       "<tr><td><tt>Lambda_b->Lambda::re_H_A_long3@BRvD2021</tt></td><td>12.4842</td><td>1</td></tr>\n",
       "<tr><td><tt>Lambda_b->Lambda::re_H_A_long5@BRvD2021</tt></td><td>14.2157</td><td>1</td></tr>\n",
       "<tr><td><tt>Lambda_b->Lambda::re_H_A_long7@BRvD2021</tt></td><td>10.7240</td><td>1</td></tr>\n",
       "<tr><td><tt>Lambda_b->Lambda::re_H_A_perp1@BRvD2021</tt></td><td>3.1409</td><td>1</td></tr>\n",
       "<tr><td><tt>Lambda_b->Lambda::re_H_A_perp3@BRvD2021</tt></td><td>0.1308</td><td>1</td></tr>\n",
       "<tr><td><tt>Lambda_b->Lambda::re_H_A_perp5@BRvD2021</tt></td><td>1.0034</td><td>1</td></tr>\n",
       "<tr><td><tt>Lambda_b->Lambda::re_H_A_perp7@BRvD2021</tt></td><td>0.8010</td><td>1</td></tr>\n",
       "<tr><td><tt>Lambda_b->Lambda::re_H_V_long1@BRvD2021</tt></td><td>6.6135</td><td>1</td></tr>\n",
       "<tr><td><tt>Lambda_b->Lambda::re_H_V_long3@BRvD2021</tt></td><td>27.7894</td><td>1</td></tr>\n",
       "<tr><td><tt>Lambda_b->Lambda::re_H_V_long5@BRvD2021</tt></td><td>35.4146</td><td>1</td></tr>\n",
       "<tr><td><tt>Lambda_b->Lambda::re_H_V_long7@BRvD2021</tt></td><td>30.4318</td><td>1</td></tr>\n",
       "<tr><td><tt>Lambda_b->Lambda::re_H_V_perp1@BRvD2021</tt></td><td>3.6591</td><td>1</td></tr>\n",
       "<tr><td><tt>Lambda_b->Lambda::re_H_V_perp3@BRvD2021</tt></td><td>7.7754</td><td>1</td></tr>\n",
       "<tr><td><tt>Lambda_b->Lambda::re_H_V_perp5@BRvD2021</tt></td><td>20.8118</td><td>1</td></tr>\n",
       "<tr><td><tt>Lambda_b->Lambda::re_H_V_perp7@BRvD2021</tt></td><td>22.0681</td><td>1</td></tr>\n",
       "<tr><td><tt>Lambda_b->LambdaJpsi::K1cc@LHCb-2020</tt></td><td>0.0875</td><td>1</td></tr>\n",
       "<tr><td><tt>Lambda_b->LambdaJpsi::K1ss@LHCb-2020</tt></td><td>0.0875</td><td>1</td></tr>\n",
       "<tr><td><tt>Lambda_b->LambdaJpsi::K2cc@LHCb-2020</tt></td><td>4.3755</td><td>1</td></tr>\n",
       "<tr><td><tt>Lambda_b->LambdaJpsi::K2ss@LHCb-2020</tt></td><td>27.9124</td><td>1</td></tr>\n",
       "<tr><td><tt>Lambda_b->LambdaJpsi::K3sc@LHCb-2020</tt></td><td>0.4460</td><td>1</td></tr>\n",
       "<tr><td><tt>Lambda_b->LambdaJpsi::K4sc@LHCb-2020</tt></td><td>0.6855</td><td>1</td></tr>\n",
       "<tr><td><tt>Lambda_b->LambdaJpsi::abs_bplus@LHCb-2020</tt></td><td>398.2860</td><td>1</td></tr>\n",
       "<tr><td><tt>Lambda_b->LambdaJpsi::arg_bplus@LHCb-2020</tt></td><td>0.0000</td><td>1</td></tr>\n",
       "<tr><td><tt>Lambda_b->LambdaJpsi::branching_ratio@HFLAV-2016</tt></td><td>0.0183</td><td>1</td></tr>\n",
       "</table><br/>\n",
       "<table>\n",
       "<tr><th>total &chi;<sup>2</sup></th><td>3406.1711</td></tr>\n",
       "<tr><th>total degrees of freedom</th><td>23</td></tr>\n",
       "<tr><th>p-value</th><td>0.0000%</td></tr>\n",
       "</table>\n"
      ],
      "text/plain": [
       "<_eos.GoodnessOfFit at 0x7f7b54609148>"
      ]
     },
     "metadata": {},
     "output_type": "display_data"
    }
   ],
   "source": [
    "bfp = analysis.optimize()\n",
    "display(bfp)\n",
    "display(analysis.goodness_of_fit())"
   ]
  },
  {
   "cell_type": "code",
   "execution_count": 9,
   "metadata": {},
   "outputs": [
    {
     "data": {
      "text/html": [
       "\n",
       "        <table>\n",
       "            <tr>\n",
       "                <th>Lambda_b->Lambdacharmonium::abs_aplus</th>\n",
       "                <td>(eos.Observable)</td>\n",
       "            </tr>\n",
       "            <tr>\n",
       "                <th>current value</th>\n",
       "                <td><tt>9.134e-05</tt></td>\n",
       "            </tr>\n",
       "        </table>"
      ],
      "text/plain": [
       "<_eos.Observable at 0x7f7afb2f69d0>"
      ]
     },
     "execution_count": 9,
     "metadata": {},
     "output_type": "execute_result"
    }
   ],
   "source": [
    "eos.Observable.make(\"Lambda_b->Lambdacharmonium::abs_aplus\", analysis.parameters, eos.Kinematics(), eos.Options())"
   ]
  },
  {
   "cell_type": "code",
   "execution_count": 10,
   "metadata": {},
   "outputs": [
    {
     "data": {
      "text/html": [
       "\n",
       "        <table>\n",
       "            <tr>\n",
       "                <th>Lambda_b->Lambdacharmonium::abs_aminus</th>\n",
       "                <td>(eos.Observable)</td>\n",
       "            </tr>\n",
       "            <tr>\n",
       "                <th>current value</th>\n",
       "                <td><tt>0.002192</tt></td>\n",
       "            </tr>\n",
       "        </table>"
      ],
      "text/plain": [
       "<_eos.Observable at 0x7f7b32fffea0>"
      ]
     },
     "execution_count": 10,
     "metadata": {},
     "output_type": "execute_result"
    }
   ],
   "source": [
    "eos.Observable.make(\"Lambda_b->Lambdacharmonium::abs_aminus\", analysis.parameters, eos.Kinematics(), eos.Options())"
   ]
  },
  {
   "cell_type": "code",
   "execution_count": 11,
   "metadata": {},
   "outputs": [
    {
     "data": {
      "text/html": [
       "\n",
       "        <table>\n",
       "            <tr>\n",
       "                <th>Lambda_b->Lambdacharmonium::abs_bplus</th>\n",
       "                <td>(eos.Observable)</td>\n",
       "            </tr>\n",
       "            <tr>\n",
       "                <th>current value</th>\n",
       "                <td><tt>0.002145</tt></td>\n",
       "            </tr>\n",
       "        </table>"
      ],
      "text/plain": [
       "<_eos.Observable at 0x7f7b32fff190>"
      ]
     },
     "execution_count": 11,
     "metadata": {},
     "output_type": "execute_result"
    }
   ],
   "source": [
    "eos.Observable.make(\"Lambda_b->Lambdacharmonium::abs_bplus\", analysis.parameters, eos.Kinematics(), eos.Options())"
   ]
  },
  {
   "cell_type": "code",
   "execution_count": 12,
   "metadata": {},
   "outputs": [
    {
     "data": {
      "text/html": [
       "\n",
       "        <table>\n",
       "            <tr>\n",
       "                <th>Lambda_b->Lambdacharmonium::abs_bminus</th>\n",
       "                <td>(eos.Observable)</td>\n",
       "            </tr>\n",
       "            <tr>\n",
       "                <th>current value</th>\n",
       "                <td><tt>0.0001265</tt></td>\n",
       "            </tr>\n",
       "        </table>"
      ],
      "text/plain": [
       "<_eos.Observable at 0x7f7b32fff558>"
      ]
     },
     "execution_count": 12,
     "metadata": {},
     "output_type": "execute_result"
    }
   ],
   "source": [
    "eos.Observable.make(\"Lambda_b->Lambdacharmonium::abs_bminus\", analysis.parameters, eos.Kinematics(), eos.Options())"
   ]
  },
  {
   "cell_type": "code",
   "execution_count": 13,
   "metadata": {},
   "outputs": [
    {
     "data": {
      "text/html": [
       "\n",
       "        <table>\n",
       "            <tr>\n",
       "                <th>Lambda_b->Lambdacharmonium::arg_aplus</th>\n",
       "                <td>(eos.Observable)</td>\n",
       "            </tr>\n",
       "            <tr>\n",
       "                <th>current value</th>\n",
       "                <td><tt>-2.465</tt></td>\n",
       "            </tr>\n",
       "        </table>"
      ],
      "text/plain": [
       "<_eos.Observable at 0x7f7b32fff818>"
      ]
     },
     "execution_count": 13,
     "metadata": {},
     "output_type": "execute_result"
    }
   ],
   "source": [
    "eos.Observable.make(\"Lambda_b->Lambdacharmonium::arg_aplus\", analysis.parameters, eos.Kinematics(), eos.Options())"
   ]
  },
  {
   "cell_type": "code",
   "execution_count": 14,
   "metadata": {},
   "outputs": [
    {
     "data": {
      "text/html": [
       "\n",
       "        <table>\n",
       "            <tr>\n",
       "                <th>Lambda_b->Lambdacharmonium::arg_aminus</th>\n",
       "                <td>(eos.Observable)</td>\n",
       "            </tr>\n",
       "            <tr>\n",
       "                <th>current value</th>\n",
       "                <td><tt>-0.3557</tt></td>\n",
       "            </tr>\n",
       "        </table>"
      ],
      "text/plain": [
       "<_eos.Observable at 0x7f7b32fff9d0>"
      ]
     },
     "execution_count": 14,
     "metadata": {},
     "output_type": "execute_result"
    }
   ],
   "source": [
    "eos.Observable.make(\"Lambda_b->Lambdacharmonium::arg_aminus\", analysis.parameters, eos.Kinematics(), eos.Options())"
   ]
  },
  {
   "cell_type": "code",
   "execution_count": 15,
   "metadata": {},
   "outputs": [
    {
     "data": {
      "text/html": [
       "\n",
       "        <table>\n",
       "            <tr>\n",
       "                <th>Lambda_b->Lambdacharmonium::arg_bplus</th>\n",
       "                <td>(eos.Observable)</td>\n",
       "            </tr>\n",
       "            <tr>\n",
       "                <th>current value</th>\n",
       "                <td><tt>0.0001538</tt></td>\n",
       "            </tr>\n",
       "        </table>"
      ],
      "text/plain": [
       "<_eos.Observable at 0x7f7b32fffb88>"
      ]
     },
     "execution_count": 15,
     "metadata": {},
     "output_type": "execute_result"
    }
   ],
   "source": [
    "eos.Observable.make(\"Lambda_b->Lambdacharmonium::arg_bplus\", analysis.parameters, eos.Kinematics(), eos.Options())"
   ]
  },
  {
   "cell_type": "code",
   "execution_count": 16,
   "metadata": {},
   "outputs": [
    {
     "data": {
      "text/html": [
       "\n",
       "        <table>\n",
       "            <tr>\n",
       "                <th>Lambda_b->Lambdacharmonium::arg_bminus</th>\n",
       "                <td>(eos.Observable)</td>\n",
       "            </tr>\n",
       "            <tr>\n",
       "                <th>current value</th>\n",
       "                <td><tt>0.3263</tt></td>\n",
       "            </tr>\n",
       "        </table>"
      ],
      "text/plain": [
       "<_eos.Observable at 0x7f7b32fff660>"
      ]
     },
     "execution_count": 16,
     "metadata": {},
     "output_type": "execute_result"
    }
   ],
   "source": [
    "eos.Observable.make(\"Lambda_b->Lambdacharmonium::arg_bminus\", analysis.parameters, eos.Kinematics(), eos.Options())"
   ]
  },
  {
   "cell_type": "code",
   "execution_count": 17,
   "metadata": {},
   "outputs": [
    {
     "data": {
      "text/html": [
       "\n",
       "        <table>\n",
       "            <tr>\n",
       "                <th>Lambda_b->Lambdacharmonium::alpha_b</th>\n",
       "                <td>(eos.Observable)</td>\n",
       "            </tr>\n",
       "            <tr>\n",
       "                <th>current value</th>\n",
       "                <td><tt>-0.02236</tt></td>\n",
       "            </tr>\n",
       "        </table>"
      ],
      "text/plain": [
       "<_eos.Observable at 0x7f7b32fffc90>"
      ]
     },
     "execution_count": 17,
     "metadata": {},
     "output_type": "execute_result"
    }
   ],
   "source": [
    "eos.Observable.make(\"Lambda_b->Lambdacharmonium::alpha_b\", analysis.parameters, eos.Kinematics(), eos.Options())"
   ]
  },
  {
   "cell_type": "code",
   "execution_count": 18,
   "metadata": {},
   "outputs": [
    {
     "data": {
      "text/html": [
       "\n",
       "        <table>\n",
       "            <tr>\n",
       "                <th>Lambda_b->Lambdacharmonium::branching_ratio</th>\n",
       "                <td>(eos.Observable)</td>\n",
       "            </tr>\n",
       "            <tr>\n",
       "                <th>current value</th>\n",
       "                <td><tt>0.0003835</tt></td>\n",
       "            </tr>\n",
       "        </table>"
      ],
      "text/plain": [
       "<_eos.Observable at 0x7f7b33013088>"
      ]
     },
     "execution_count": 18,
     "metadata": {},
     "output_type": "execute_result"
    }
   ],
   "source": [
    "eos.Observable.make(\"Lambda_b->Lambdacharmonium::branching_ratio\", analysis.parameters, eos.Kinematics(), eos.Options())"
   ]
  },
  {
   "cell_type": "code",
   "execution_count": null,
   "metadata": {},
   "outputs": [],
   "source": []
  },
  {
   "cell_type": "code",
   "execution_count": null,
   "metadata": {},
   "outputs": [],
   "source": []
  },
  {
   "cell_type": "code",
   "execution_count": 19,
   "metadata": {},
   "outputs": [],
   "source": [
    "a0_V_perp= complex(analysis.parameters['Lambda_b->Lambdaccbar::Re{alpha_0^V_perp}@BRvD2021'],analysis.parameters['Lambda_b->Lambdaccbar::Im{alpha_0^V_perp}@BRvD2021'])\n",
    "a1_V_perp= complex(analysis.parameters['Lambda_b->Lambdaccbar::Re{alpha_1^V_perp}@BRvD2021'],analysis.parameters['Lambda_b->Lambdaccbar::Im{alpha_1^V_perp}@BRvD2021'])\n",
    "a2_V_perp= complex(analysis.parameters['Lambda_b->Lambdaccbar::Re{alpha_2^V_perp}@BRvD2021'],analysis.parameters['Lambda_b->Lambdaccbar::Im{alpha_2^V_perp}@BRvD2021'])\n",
    "\n",
    "a0_V_long= complex(analysis.parameters['Lambda_b->Lambdaccbar::Re{alpha_0^V_long}@BRvD2021'],analysis.parameters['Lambda_b->Lambdaccbar::Im{alpha_0^V_long}@BRvD2021'])\n",
    "a1_V_long= complex(analysis.parameters['Lambda_b->Lambdaccbar::Re{alpha_1^V_long}@BRvD2021'],analysis.parameters['Lambda_b->Lambdaccbar::Im{alpha_1^V_long}@BRvD2021'])\n",
    "a2_V_long= complex(analysis.parameters['Lambda_b->Lambdaccbar::Re{alpha_2^V_long}@BRvD2021'],analysis.parameters['Lambda_b->Lambdaccbar::Im{alpha_2^V_long}@BRvD2021'])\n"
   ]
  },
  {
   "cell_type": "code",
   "execution_count": 20,
   "metadata": {},
   "outputs": [],
   "source": [
    "a0_A_perp= complex(analysis.parameters['Lambda_b->Lambdaccbar::Re{alpha_0^A_perp}@BRvD2021'],analysis.parameters['Lambda_b->Lambdaccbar::Im{alpha_0^A_perp}@BRvD2021'])\n",
    "a1_A_perp= complex(analysis.parameters['Lambda_b->Lambdaccbar::Re{alpha_1^A_perp}@BRvD2021'],analysis.parameters['Lambda_b->Lambdaccbar::Im{alpha_1^A_perp}@BRvD2021'])\n",
    "a2_A_perp= complex(analysis.parameters['Lambda_b->Lambdaccbar::Re{alpha_2^A_perp}@BRvD2021'],analysis.parameters['Lambda_b->Lambdaccbar::Im{alpha_2^A_perp}@BRvD2021'])\n",
    "\n",
    "a0_A_long= complex(analysis.parameters['Lambda_b->Lambdaccbar::Re{alpha_0^A_long}@BRvD2021'],analysis.parameters['Lambda_b->Lambdaccbar::Im{alpha_0^A_long}@BRvD2021'])\n",
    "a1_A_long= complex(analysis.parameters['Lambda_b->Lambdaccbar::Re{alpha_1^A_long}@BRvD2021'],analysis.parameters['Lambda_b->Lambdaccbar::Im{alpha_1^A_long}@BRvD2021'])\n",
    "a2_A_long= complex(analysis.parameters['Lambda_b->Lambdaccbar::Re{alpha_2^A_long}@BRvD2021'],analysis.parameters['Lambda_b->Lambdaccbar::Im{alpha_2^A_long}@BRvD2021'])\n"
   ]
  },
  {
   "cell_type": "code",
   "execution_count": 21,
   "metadata": {},
   "outputs": [
    {
     "data": {
      "text/plain": [
       "0.759622571944813"
      ]
     },
     "execution_count": 21,
     "metadata": {},
     "output_type": "execute_result"
    }
   ],
   "source": [
    "(np.abs(a0_V_perp)**2 + np.abs(a1_V_perp)**2 + np.abs(a2_V_perp)**2)"
   ]
  },
  {
   "cell_type": "code",
   "execution_count": null,
   "metadata": {},
   "outputs": [],
   "source": []
  },
  {
   "cell_type": "code",
   "execution_count": null,
   "metadata": {},
   "outputs": [],
   "source": []
  },
  {
   "cell_type": "code",
   "execution_count": null,
   "metadata": {},
   "outputs": [],
   "source": []
  },
  {
   "cell_type": "code",
   "execution_count": null,
   "metadata": {},
   "outputs": [],
   "source": []
  },
  {
   "cell_type": "code",
   "execution_count": null,
   "metadata": {},
   "outputs": [],
   "source": []
  },
  {
   "cell_type": "code",
   "execution_count": 22,
   "metadata": {
    "scrolled": true
   },
   "outputs": [
    {
     "name": "stdout",
     "output_type": "stream",
     "text": [
      "WARNING: Markov chain self adaptation failed; trying diagonalization ... success\n"
     ]
    },
    {
     "name": "stderr",
     "output_type": "stream",
     "text": [
      "100%|██████████| 100/100 [00:25<00:00,  3.96it/s]\n"
     ]
    },
    {
     "name": "stdout",
     "output_type": "stream",
     "text": [
      "WARNING: Markov chain self adaptation failed; trying diagonalization ... success\n"
     ]
    },
    {
     "name": "stderr",
     "output_type": "stream",
     "text": [
      "100%|██████████| 100/100 [00:26<00:00,  3.76it/s]\n"
     ]
    },
    {
     "name": "stdout",
     "output_type": "stream",
     "text": [
      "WARNING: Markov chain self adaptation failed; trying diagonalization ... success\n"
     ]
    },
    {
     "name": "stderr",
     "output_type": "stream",
     "text": [
      "100%|██████████| 100/100 [00:29<00:00,  3.39it/s]\n",
      "100%|██████████| 100/100 [00:29<00:00,  3.38it/s]\n"
     ]
    }
   ],
   "source": [
    "q2values  = np.unique(np.concatenate((np.linspace(-10, 0, 20), np.linspace(0, 10, 20))))\n",
    "re_H_V_perp_obs       = [eos.Observable.make(\n",
    "                   \"Lambda_b->Lambda::re_H_V_perp(q2)\", analysis.parameters, eos.Kinematics(q2=q2),\n",
    "                   eos.Options())\n",
    "               for q2 in q2values]\n",
    "re_H_V_long_obs       = [eos.Observable.make(\n",
    "                   \"Lambda_b->Lambda::re_H_V_long(q2)\", analysis.parameters, eos.Kinematics(q2=q2),\n",
    "                   eos.Options())\n",
    "               for q2 in q2values]\n",
    "\n",
    "re_H_A_perp_obs       = [eos.Observable.make(\n",
    "                   \"Lambda_b->Lambda::re_H_A_perp(q2)\", analysis.parameters, eos.Kinematics(q2=q2),\n",
    "                   eos.Options())\n",
    "               for q2 in q2values]\n",
    "re_H_A_long_obs       = [eos.Observable.make(\n",
    "                   \"Lambda_b->Lambda::re_H_A_long(q2)\", analysis.parameters, eos.Kinematics(q2=q2),\n",
    "                   eos.Options())\n",
    "               for q2 in q2values]\n",
    "\n",
    "_, log_weights, re_H_V_perp_samples  = analysis.sample(N=5000,stride=10, pre_N=1000, preruns=50,observables=re_H_V_perp_obs)\n",
    "_, log_weights, re_H_V_long_samples  = analysis.sample(N=5000, stride=10, pre_N=1000, preruns=50,observables=re_H_V_long_obs)\n",
    "\n",
    "_, log_weights, re_H_A_perp_samples  = analysis.sample(N=5000,stride=10, pre_N=1000, preruns=50,observables=re_H_A_perp_obs)\n",
    "_, log_weights, re_H_A_long_samples  = analysis.sample(N=5000,stride=10, pre_N=1000, preruns=50,observables=re_H_A_long_obs)\n"
   ]
  },
  {
   "cell_type": "code",
   "execution_count": 23,
   "metadata": {},
   "outputs": [
    {
     "name": "stderr",
     "output_type": "stream",
     "text": [
      "findfont: Font family ['serif'] not found. Falling back to DejaVu Sans.\n"
     ]
    },
    {
     "data": {
      "image/png": "[encoded data removed]",
      "text/plain": [
       "<Figure size 432x288 with 1 Axes>"
      ]
     },
     "metadata": {
      "needs_background": "light"
     },
     "output_type": "display_data"
    }
   ],
   "source": [
    "plot_args = {\n",
    "    'plot': {\n",
    "        'x': { 'label': r'$q^2$', 'unit': r'$\\textnormal{GeV}^2$', 'range': [-7,4] },\n",
    "        'y': { 'label': r'Re $\\mathcal{H}_{\\Gamma,\\lambda}(q^2)$', 'range':[-0.0001,0.00025]   },\n",
    "        'legend': { 'location': 'lower left' },\n",
    "\n",
    "    },\n",
    "    'contents': [\n",
    "        {\n",
    "          'label': r'Re $\\mathcal{H}_{V,\\perp}(q^2)$', 'type': 'uncertainty', 'range': [-7, 11.60],\n",
    "          'data': { 'samples': re_H_V_perp_samples, 'xvalues': q2values }\n",
    "        },\n",
    "        {\n",
    "          'label': r'Re $\\mathcal{H}_{V, 0}(q^2)$', 'type': 'uncertainty', 'range': [-7, 11.60],\n",
    "          'data': { 'samples': re_H_V_long_samples, 'xvalues': q2values }\n",
    "        },\n",
    "        {\n",
    "          'label': r'Re $\\mathcal{H}_{A,\\perp}(q^2)$', 'type': 'uncertainty', 'range': [-7, 11.60],\n",
    "          'data': { 'samples': re_H_A_perp_samples, 'xvalues': q2values }\n",
    "        },\n",
    "        {\n",
    "          'label': r'Re $\\mathcal{H}_{A, 0}(q^2)$', 'type': 'uncertainty', 'range': [-7, 11.60],\n",
    "          'data': { 'samples': re_H_A_long_samples, 'xvalues': q2values }\n",
    "        },\n",
    "    ]\n",
    "}\n",
    "eos.plot.Plotter(plot_args, \"Re_NonLocal.jpg\").plot()"
   ]
  },
  {
   "cell_type": "code",
   "execution_count": null,
   "metadata": {},
   "outputs": [],
   "source": []
  },
  {
   "cell_type": "code",
   "execution_count": null,
   "metadata": {},
   "outputs": [],
   "source": []
  },
  {
   "cell_type": "code",
   "execution_count": 24,
   "metadata": {},
   "outputs": [
    {
     "name": "stdout",
     "output_type": "stream",
     "text": [
      "WARNING: Markov chain self adaptation failed; trying diagonalization ... success\n"
     ]
    },
    {
     "name": "stderr",
     "output_type": "stream",
     "text": [
      "100%|██████████| 100/100 [00:25<00:00,  3.97it/s]\n"
     ]
    },
    {
     "name": "stdout",
     "output_type": "stream",
     "text": [
      "WARNING: Markov chain self adaptation failed; trying diagonalization ... success\n",
      "WARNING: Markov chain self adaptation failed; trying diagonalization ... success\n"
     ]
    },
    {
     "name": "stderr",
     "output_type": "stream",
     "text": [
      "100%|██████████| 100/100 [00:15<00:00,  6.30it/s]\n"
     ]
    },
    {
     "name": "stdout",
     "output_type": "stream",
     "text": [
      "WARNING: Markov chain self adaptation failed; trying diagonalization ... success\n",
      "WARNING: Markov chain self adaptation failed; trying diagonalization ... success\n"
     ]
    },
    {
     "name": "stderr",
     "output_type": "stream",
     "text": [
      "100%|██████████| 100/100 [00:18<00:00,  5.38it/s]\n"
     ]
    },
    {
     "name": "stdout",
     "output_type": "stream",
     "text": [
      "WARNING: Markov chain self adaptation failed; trying diagonalization ... success\n"
     ]
    },
    {
     "name": "stderr",
     "output_type": "stream",
     "text": [
      "100%|██████████| 100/100 [00:15<00:00,  6.29it/s]\n"
     ]
    }
   ],
   "source": [
    "q2values  = np.unique(np.concatenate((np.linspace(-10, 0, 20), np.linspace(0, 10, 20))))\n",
    "im_H_V_perp_obs       = [eos.Observable.make(\n",
    "                   \"Lambda_b->Lambda::im_H_V_perp(q2)\", analysis.parameters, eos.Kinematics(q2=q2),\n",
    "                   eos.Options())\n",
    "               for q2 in q2values]\n",
    "im_H_V_long_obs       = [eos.Observable.make(\n",
    "                   \"Lambda_b->Lambda::im_H_V_long(q2)\", analysis.parameters, eos.Kinematics(q2=q2),\n",
    "                   eos.Options())\n",
    "               for q2 in q2values]\n",
    "\n",
    "im_H_A_perp_obs       = [eos.Observable.make(\n",
    "                   \"Lambda_b->Lambda::im_H_A_perp(q2)\", analysis.parameters, eos.Kinematics(q2=q2),\n",
    "                   eos.Options())\n",
    "               for q2 in q2values]\n",
    "im_H_A_long_obs       = [eos.Observable.make(\n",
    "                   \"Lambda_b->Lambda::im_H_A_long(q2)\", analysis.parameters, eos.Kinematics(q2=q2),\n",
    "                   eos.Options())\n",
    "               for q2 in q2values]\n",
    "\n",
    "_, log_weights, im_H_V_perp_samples  = analysis.sample(N=5000, stride=10,pre_N=1000, preruns=50,observables=im_H_V_perp_obs)\n",
    "_, log_weights, im_H_V_long_samples  = analysis.sample(N=5000, stride=10,pre_N=1000, preruns=50,observables=im_H_V_long_obs)\n",
    "\n",
    "_, log_weights, im_H_A_perp_samples  = analysis.sample(N=5000, stride=10,pre_N=1000, preruns=50,observables=im_H_A_perp_obs)\n",
    "_, log_weights, im_H_A_long_samples  = analysis.sample(N=5000, stride=10,pre_N=1000, preruns=50,observables=im_H_A_long_obs)\n",
    "\n"
   ]
  },
  {
   "cell_type": "code",
   "execution_count": 25,
   "metadata": {},
   "outputs": [
    {
     "data": {
      "image/png": "[encoded data removed]",
      "text/plain": [
       "<Figure size 432x288 with 1 Axes>"
      ]
     },
     "metadata": {
      "needs_background": "light"
     },
     "output_type": "display_data"
    }
   ],
   "source": [
    "plot_args = {\n",
    "    'plot': {\n",
    "        'x': { 'label': r'$q^2$', 'unit': r'$\\textnormal{GeV}^2$', 'range': [-7,4] },\n",
    "        'y': { 'label': r'Im $\\mathcal{H}_{\\Gamma,\\lambda}(q^2)$', 'range':[-0.003,0.003]   },\n",
    "        'legend': { 'location': 'lower left' }\n",
    "    },\n",
    "    'contents': [\n",
    "        {\n",
    "          'label': r'Im $\\mathcal{H}_{V,\\perp}(q^2)$', 'type': 'uncertainty', 'range': [-7, 11.60],\n",
    "          'data': { 'samples': im_H_V_perp_samples, 'xvalues': q2values }\n",
    "        },\n",
    "        {\n",
    "          'label': r'Im $\\mathcal{H}_{V, 0}(q^2)$', 'type': 'uncertainty', 'range': [-7, 11.60],\n",
    "          'data': { 'samples': im_H_V_long_samples, 'xvalues': q2values }\n",
    "        },\n",
    "        {\n",
    "          'label': r'Im $\\mathcal{H}_{A,\\perp}(q^2)$', 'type': 'uncertainty', 'range': [-7, 11.60],\n",
    "          'data': { 'samples': im_H_A_perp_samples, 'xvalues': q2values }\n",
    "        },\n",
    "        {\n",
    "          'label': r'Im $\\mathcal{H}_{A, 0}(q^2)$', 'type': 'uncertainty', 'range': [-7, 11.60],\n",
    "          'data': { 'samples': im_H_A_long_samples, 'xvalues': q2values }\n",
    "        },\n",
    "    ]\n",
    "}\n",
    "\n",
    "eos.plot.Plotter(plot_args, \"Im_NonLocal.jpg\").plot()"
   ]
  },
  {
   "cell_type": "code",
   "execution_count": null,
   "metadata": {},
   "outputs": [],
   "source": []
  },
  {
   "cell_type": "code",
   "execution_count": 26,
   "metadata": {},
   "outputs": [
    {
     "data": {
      "text/html": [
       "\n",
       "        <table>\n",
       "            <tr>\n",
       "                <th>Lambda_b->Lambda::f_long^T(q2)</th>\n",
       "                <td>(eos.Observable)</td>\n",
       "            </tr>\n",
       "            <tr>\n",
       "                <th>current value</th>\n",
       "                <td><tt>0.5055</tt></td>\n",
       "            </tr>\n",
       "        </table>"
      ],
      "text/plain": [
       "<_eos.Observable at 0x7f7af813b5b0>"
      ]
     },
     "execution_count": 26,
     "metadata": {},
     "output_type": "execute_result"
    }
   ],
   "source": [
    "eos.Observable.make(\"Lambda_b->Lambda::f_long^T(q2)\", analysis.parameters, eos.Kinematics(q2=10), eos.Options(**{'form-factors': 'DM2016'}))"
   ]
  },
  {
   "cell_type": "code",
   "execution_count": null,
   "metadata": {},
   "outputs": [],
   "source": []
  }
 ],
 "metadata": {
  "kernelspec": {
   "display_name": "Python 3",
   "language": "python",
   "name": "python3"
  },
  "language_info": {
   "codemirror_mode": {
    "name": "ipython",
    "version": 3
   },
   "file_extension": ".py",
   "mimetype": "text/x-python",
   "name": "python",
   "nbconvert_exporter": "python",
   "pygments_lexer": "ipython3",
   "version": "3.6.9"
  }
 },
 "nbformat": 4,
 "nbformat_minor": 4
}
