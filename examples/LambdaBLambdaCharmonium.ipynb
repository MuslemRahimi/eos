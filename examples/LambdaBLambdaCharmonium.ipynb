{
 "cells": [
  {
   "cell_type": "code",
   "execution_count": 1,
   "metadata": {},
   "outputs": [],
   "source": [
    "import eos\n",
    "import numpy as np"
   ]
  },
  {
   "cell_type": "code",
   "execution_count": 2,
   "metadata": {},
   "outputs": [
    {
     "data": {
      "text/html": [
       "<table>\n",
       "  <tr><th style=\"text-align:left\" colspan=2><big>Observables in (semi)leptonic $b$-hadron decays</big></th></tr>\n",
       "    <tr><th style=\"text-align:left\" colspan=2>Observables in $\\Lambda_b\\to \\Lambda_c \\ell^-\\bar\\nu$ decays</th></tr>\n",
       "      <tr><th><tt style=\"color:grey\">Lambda_b->Lambda_clnu::K_1c</tt></th><td style=\"text-align:left\">$$K_{1c}(\\Lambda_b\\to\\Lambda_c(\\to \\Lambda\\pi)\\ell^-\\bar\\nu)$$</td></tr>      <tr><th><tt style=\"color:grey\">Lambda_b->Lambda_clnu::K_1cc</tt></th><td style=\"text-align:left\">$$K_{1cc}(\\Lambda_b\\to\\Lambda_c(\\to \\Lambda\\pi)\\ell^-\\bar\\nu)$$</td></tr>      <tr><th><tt style=\"color:grey\">Lambda_b->Lambda_clnu::K_1ss</tt></th><td style=\"text-align:left\">$$K_{1ss}(\\Lambda_b\\to\\Lambda_c(\\to \\Lambda\\pi)\\ell^-\\bar\\nu)$$</td></tr>      <tr><th><tt style=\"color:grey\">Lambda_b->Lambda_clnu::K_2c</tt></th><td style=\"text-align:left\">$$K_{2c}(\\Lambda_b\\to\\Lambda_c(\\to \\Lambda\\pi)\\ell^-\\bar\\nu)$$</td></tr>      <tr><th><tt style=\"color:grey\">Lambda_b->Lambda_clnu::K_2cc</tt></th><td style=\"text-align:left\">$$K_{2cc}(\\Lambda_b\\to\\Lambda_c(\\to \\Lambda\\pi)\\ell^-\\bar\\nu)$$</td></tr>      <tr><th><tt style=\"color:grey\">Lambda_b->Lambda_clnu::K_2ss</tt></th><td style=\"text-align:left\">$$K_{2ss}(\\Lambda_b\\to\\Lambda_c(\\to \\Lambda\\pi)\\ell^-\\bar\\nu)$$</td></tr>      <tr><th><tt style=\"color:grey\">Lambda_b->Lambda_clnu::K_3s</tt></th><td style=\"text-align:left\">$$K_{3s}(\\Lambda_b\\to\\Lambda_c(\\to \\Lambda\\pi)\\ell^-\\bar\\nu)$$</td></tr>      <tr><th><tt style=\"color:grey\">Lambda_b->Lambda_clnu::K_3sc</tt></th><td style=\"text-align:left\">$$K_{3sc}(\\Lambda_b\\to\\Lambda_c(\\to \\Lambda\\pi)\\ell^-\\bar\\nu)$$</td></tr>      <tr><th><tt style=\"color:grey\">Lambda_b->Lambda_clnu::K_4s</tt></th><td style=\"text-align:left\">$$K_{4s}(\\Lambda_b\\to\\Lambda_c(\\to \\Lambda\\pi)\\ell^-\\bar\\nu)$$</td></tr>      <tr><th><tt style=\"color:grey\">Lambda_b->Lambda_clnu::K_4sc</tt></th><td style=\"text-align:left\">$$K_{4sc}(\\Lambda_b\\to\\Lambda_c(\\to \\Lambda\\pi)\\ell^-\\bar\\nu)$$</td></tr>    <tr><td style=\"text-align:left\" colspan=2>The option \"l\" selects the charged lepton flavour. The option \"form-factors\" selects the form factor parametrization.</td></tr>\n",
       "  <tr><th style=\"text-align:left\" colspan=2><big>Observables in rare (semi)leptonic and radiative $b$-hadron decays</big></th></tr>\n",
       "    <tr><th style=\"text-align:left\" colspan=2>Observables in $\\Lambda_b \\to \\Lambda \\psi$ decays</th></tr>\n",
       "      <tr><th><tt style=\"color:grey\">Lambda_b->Lambdacharmonium::K1cc</tt></th><td style=\"text-align:left\">$$K_{1cc}(\\Lambda_b \\to \\Lambda \\psi)$$</td></tr>      <tr><th><tt style=\"color:grey\">Lambda_b->Lambdacharmonium::K1ss</tt></th><td style=\"text-align:left\">$$K_{1ss}(\\Lambda_b \\to \\Lambda \\psi)$$</td></tr>      <tr><th><tt style=\"color:grey\">Lambda_b->Lambdacharmonium::K2cc</tt></th><td style=\"text-align:left\">$$K_{2ss}(\\Lambda_b \\to \\Lambda \\psi)$$</td></tr>      <tr><th><tt style=\"color:grey\">Lambda_b->Lambdacharmonium::K2ss</tt></th><td style=\"text-align:left\">$$K_{2ss}(\\Lambda_b \\to \\Lambda \\psi)$$</td></tr>      <tr><th><tt style=\"color:grey\">Lambda_b->Lambdacharmonium::K3sc</tt></th><td style=\"text-align:left\">$$K_{3sc}(\\Lambda_b \\to \\Lambda \\psi)$$</td></tr>      <tr><th><tt style=\"color:grey\">Lambda_b->Lambdacharmonium::K4sc</tt></th><td style=\"text-align:left\">$$K_{4sc}(\\Lambda_b \\to \\Lambda \\psi)$$</td></tr>    <tr><td style=\"text-align:left\" colspan=2>The option \"psi\" selects charmonium state.</td></tr>\n",
       "</table>"
      ],
      "text/plain": [
       "<eos.observable.Observables at 0x7f233c4d58f0>"
      ]
     },
     "execution_count": 2,
     "metadata": {},
     "output_type": "execute_result"
    }
   ],
   "source": [
    "eos.Observables(prefix='L', name='K')"
   ]
  },
  {
   "cell_type": "code",
   "execution_count": 3,
   "metadata": {},
   "outputs": [
    {
     "data": {
      "text/html": [
       "<table>\n",
       "  <tr><th style=\"text-align:left\" colspan=2><big>Observables in (semi)leptonic $b$-hadron decays</big></th></tr>\n",
       "    <tr><th style=\"text-align:left\" colspan=2>Observables in $\\Lambda_b\\to \\Lambda_c \\ell^-\\bar\\nu$ decays</th></tr>\n",
       "      <tr><th><tt style=\"color:grey\">Lambda_b->Lambda_c(2595)lnu::R_Lambda_c(2595)</tt></th><td style=\"text-align:left\">$$R_{\\Lambda_c(2595}$$</td></tr>      <tr><th><tt style=\"color:grey\">Lambda_b->Lambda_c(2595)lnu::R_Lambda_c(2595)(q2)</tt></th><td style=\"text-align:left\">$$R_{\\Lambda_c(2595}(q^2)$$</td></tr>      <tr><th><tt style=\"color:grey\">Lambda_b->Lambda_c(2625)lnu::R_Lambda_c(2625)</tt></th><td style=\"text-align:left\">$$R_{\\Lambda_c(2625}$$</td></tr>      <tr><th><tt style=\"color:grey\">Lambda_b->Lambda_c(2625)lnu::R_Lambda_c(2625)(q2)</tt></th><td style=\"text-align:left\">$$R_{\\Lambda_c(2625}(q^2)$$</td></tr>      <tr><th><tt style=\"color:grey\">Lambda_b->Lambda_clnu::R(Lambda_c)</tt></th><td style=\"text-align:left\">$$R(\\Lambda_c)$$</td></tr>    <tr><td style=\"text-align:left\" colspan=2>The option \"l\" selects the charged lepton flavour. The option \"form-factors\" selects the form factor parametrization.</td></tr>\n",
       "  <tr><th style=\"text-align:left\" colspan=2><big>Observables in rare (semi)leptonic and radiative $b$-hadron decays</big></th></tr>\n",
       "    <tr><th style=\"text-align:left\" colspan=2>Observables in $\\Lambda_b \\to \\Lambda\\ell^+\\ell^-$ decays</th></tr>\n",
       "      <tr><th><tt style=\"color:grey\">Lambda_b->Lambdall::R_Lambda@LargeRecoil</tt></th><td style=\"text-align:left\">$$R_{\\Lambda}(q^2)$$</td></tr>    <tr><td style=\"text-align:left\" colspan=2>The option \"l\" selects the charged lepton flavour.</td></tr>\n",
       "    <tr><th style=\"text-align:left\" colspan=2>Observables in $\\Lambda_b \\to \\Lambda \\psi$ decays</th></tr>\n",
       "      <tr><th><tt style=\"color:grey\">Lambda_b->Lambdacharmonium::abs_aminus</tt></th><td style=\"text-align:left\">$$|a_{-}|$$</td></tr>      <tr><th><tt style=\"color:grey\">Lambda_b->Lambdacharmonium::abs_aplus</tt></th><td style=\"text-align:left\">$$|a_{+}|$$</td></tr>      <tr><th><tt style=\"color:grey\">Lambda_b->Lambdacharmonium::abs_bminus</tt></th><td style=\"text-align:left\">$$|b_{-}|$$</td></tr>      <tr><th><tt style=\"color:grey\">Lambda_b->Lambdacharmonium::abs_bplus</tt></th><td style=\"text-align:left\">$$|b_{+}|$$</td></tr>      <tr><th><tt style=\"color:grey\">Lambda_b->Lambdacharmonium::alpha_b</tt></th><td style=\"text-align:left\">$$\\alpha_{b}$$</td></tr>      <tr><th><tt style=\"color:grey\">Lambda_b->Lambdacharmonium::arg_aminus</tt></th><td style=\"text-align:left\">$$\\text{arg}(a_{-})$$</td></tr>      <tr><th><tt style=\"color:grey\">Lambda_b->Lambdacharmonium::arg_aplus</tt></th><td style=\"text-align:left\">$$\\text{arg}(a_{+})|$$</td></tr>      <tr><th><tt style=\"color:grey\">Lambda_b->Lambdacharmonium::arg_bminus</tt></th><td style=\"text-align:left\">$$\\text{arg}(b_{-})$$</td></tr>      <tr><th><tt style=\"color:grey\">Lambda_b->Lambdacharmonium::arg_bplus</tt></th><td style=\"text-align:left\">$$\\text{arg}(b_{+})$$</td></tr>      <tr><th><tt style=\"color:grey\">Lambda_b->Lambdacharmonium::branching_ratio</tt></th><td style=\"text-align:left\">$$\\mathcal{B}(\\Lambda_b \\to \\Lambda \\psi)$$</td></tr>    <tr><td style=\"text-align:left\" colspan=2>The option \"psi\" selects charmonium state.</td></tr>\n",
       "</table>"
      ],
      "text/plain": [
       "<eos.observable.Observables at 0x7f233c4d5f10>"
      ]
     },
     "execution_count": 3,
     "metadata": {},
     "output_type": "execute_result"
    }
   ],
   "source": [
    "eos.Observables(prefix='L', name='a')"
   ]
  },
  {
   "cell_type": "code",
   "execution_count": 4,
   "metadata": {},
   "outputs": [],
   "source": [
    "analysis_args = {\n",
    "    'global_options': { 'form-factors': 'BRvD2021', 'model': 'WilsonScan', 'psi' : 'J/psi' },\n",
    "    'priors': [\n",
    "        { 'parameter': 'Lambda_b->Lambdaccbar::Re{alpha_0^V_long}@BRvD2021', 'min': -100.0, 'max':  100.0 , 'type': 'uniform'},\n",
    "        { 'parameter': 'Lambda_b->Lambdaccbar::Im{alpha_0^V_long}@BRvD2021', 'min': -100.0, 'max':  100.0 , 'type': 'uniform'},\n",
    "        { 'parameter': 'Lambda_b->Lambdaccbar::Re{alpha_0^V_perp}@BRvD2021', 'min': -100.0, 'max':  100.0 , 'type': 'uniform'},\n",
    "        { 'parameter': 'Lambda_b->Lambdaccbar::Im{alpha_0^V_perp}@BRvD2021', 'min': -100.0, 'max':  100.0 , 'type': 'uniform'},\n",
    "        { 'parameter': 'Lambda_b->Lambdaccbar::Re{alpha_0^A_long}@BRvD2021', 'min': -100.0, 'max':  100.0 , 'type': 'uniform'},\n",
    "        { 'parameter': 'Lambda_b->Lambdaccbar::Im{alpha_0^A_long}@BRvD2021', 'min': -100.0, 'max':  100.0 , 'type': 'uniform'},\n",
    "        { 'parameter': 'Lambda_b->Lambdaccbar::Re{alpha_0^A_perp}@BRvD2021', 'min': -100.0, 'max':  100.0 , 'type': 'uniform'},\n",
    "        { 'parameter': 'Lambda_b->Lambdaccbar::Im{alpha_0^A_perp}@BRvD2021', 'min': -100.0, 'max':  100.0 , 'type': 'uniform'}\n",
    "    ],\n",
    "    'likelihood': [\n",
    "        'Lambda_b->LambdaJpsi::abs_aplus@LHCb-2020',\n",
    "        'Lambda_b->LambdaJpsi::abs_aminus@LHCb-2020',\n",
    "        'Lambda_b->LambdaJpsi::abs_bplus@LHCb-2020',\n",
    "        'Lambda_b->LambdaJpsi::abs_bminus@LHCb-2020',\n",
    "        'Lambda_b->LambdaJpsi::arg_aplus@LHCb-2020',\n",
    "        'Lambda_b->LambdaJpsi::arg_aminus@LHCb-2020',\n",
    "        'Lambda_b->LambdaJpsi::arg_bplus@LHCb-2020',\n",
    "        'Lambda_b->LambdaJpsi::arg_bminus@LHCb-2020',\n",
    "    ]\n",
    "}\n",
    "analysis = eos.Analysis(**analysis_args)"
   ]
  },
  {
   "cell_type": "code",
   "execution_count": 5,
   "metadata": {},
   "outputs": [
    {
     "data": {
      "text/html": [
       "<table>\n",
       "<tr><th>parameter</th><th>value</th></tr>\n",
       "<tr><td>Lambda_b->Lambdaccbar::Re{alpha_0^V_long}@BRvD2021</td><td>0.0000</td></tr><tr><td>Lambda_b->Lambdaccbar::Im{alpha_0^V_long}@BRvD2021</td><td>-0.0000</td></tr><tr><td>Lambda_b->Lambdaccbar::Re{alpha_0^V_perp}@BRvD2021</td><td>-0.0000</td></tr><tr><td>Lambda_b->Lambdaccbar::Im{alpha_0^V_perp}@BRvD2021</td><td>-0.0000</td></tr><tr><td>Lambda_b->Lambdaccbar::Re{alpha_0^A_long}@BRvD2021</td><td>-0.0000</td></tr><tr><td>Lambda_b->Lambdaccbar::Im{alpha_0^A_long}@BRvD2021</td><td>-0.0000</td></tr><tr><td>Lambda_b->Lambdaccbar::Re{alpha_0^A_perp}@BRvD2021</td><td>-0.0000</td></tr><tr><td>Lambda_b->Lambdaccbar::Im{alpha_0^A_perp}@BRvD2021</td><td>0.0000</td></tr></table>"
      ],
      "text/plain": [
       "<eos.analysis.BestFitPoint at 0x7f233c43ac88>"
      ]
     },
     "metadata": {},
     "output_type": "display_data"
    },
    {
     "data": {
      "text/html": [
       "<table>\n",
       "<tr><th>constraint</th><th>&chi;<sup>2</sup></th><th>d.o.f.</th></tr>\n",
       "<tr><td><tt>Lambda_b->LambdaJpsi::abs_aminus@LHCb-2020</tt></td><td>10424.3894</td><td>1</td></tr>\n",
       "<tr><td><tt>Lambda_b->LambdaJpsi::abs_aplus@LHCb-2020</tt></td><td>166.4085</td><td>1</td></tr>\n",
       "<tr><td><tt>Lambda_b->LambdaJpsi::abs_bminus@LHCb-2020</tt></td><td>210.2478</td><td>1</td></tr>\n",
       "<tr><td><tt>Lambda_b->LambdaJpsi::abs_bplus@LHCb-2020</tt></td><td>9999.9716</td><td>1</td></tr>\n",
       "<tr><td><tt>Lambda_b->LambdaJpsi::arg_aminus@LHCb-2020</tt></td><td>0.0009</td><td>1</td></tr>\n",
       "<tr><td><tt>Lambda_b->LambdaJpsi::arg_aplus@LHCb-2020</tt></td><td>0.0005</td><td>1</td></tr>\n",
       "<tr><td><tt>Lambda_b->LambdaJpsi::arg_bminus@LHCb-2020</tt></td><td>0.0088</td><td>1</td></tr>\n",
       "<tr><td><tt>Lambda_b->LambdaJpsi::arg_bplus@LHCb-2020</tt></td><td>0.0022</td><td>1</td></tr>\n",
       "</table><br/>\n",
       "<table>\n",
       "<tr><th>total &chi;<sup>2</sup></th><td>20801.0298</td></tr>\n",
       "<tr><th>total degrees of freedom</th><td>0</td></tr>\n",
       "<tr><th>p-value</th><td>   nan%</td></tr>\n",
       "</table>\n"
      ],
      "text/plain": [
       "<_eos.GoodnessOfFit at 0x7f233c43a1f0>"
      ]
     },
     "metadata": {},
     "output_type": "display_data"
    }
   ],
   "source": [
    "bfp = analysis.optimize()\n",
    "display(bfp)\n",
    "display(analysis.goodness_of_fit())"
   ]
  },
  {
   "cell_type": "code",
   "execution_count": null,
   "metadata": {},
   "outputs": [],
   "source": []
  },
  {
   "cell_type": "code",
   "execution_count": null,
   "metadata": {},
   "outputs": [],
   "source": []
  }
 ],
 "metadata": {
  "kernelspec": {
   "display_name": "Python 3",
   "language": "python",
   "name": "python3"
  },
  "language_info": {
   "codemirror_mode": {
    "name": "ipython",
    "version": 3
   },
   "file_extension": ".py",
   "mimetype": "text/x-python",
   "name": "python",
   "nbconvert_exporter": "python",
   "pygments_lexer": "ipython3",
   "version": "3.6.9"
  }
 },
 "nbformat": 4,
 "nbformat_minor": 4
}
